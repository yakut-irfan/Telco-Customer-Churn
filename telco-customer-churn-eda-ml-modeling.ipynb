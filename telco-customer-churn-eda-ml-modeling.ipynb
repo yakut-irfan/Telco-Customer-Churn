{
 "cells": [
  {
   "cell_type": "markdown",
   "metadata": {},
   "source": [
    "# *************** Telco Customer Churn ***************"
   ]
  },
  {
   "cell_type": "markdown",
   "metadata": {},
   "source": [
    "1.***Veriseti Hikayesi***\n",
    "\n",
    "Telco müşteri kaybı verileri, üçüncü çeyrekte Kaliforniya'daki 7043 müşteriye ev telefonu ve İnternet hizmetleri sağlayan hayali bir telekom şirketi hakkında bilgi içerir. Hangi müşterilerin hizmetlerinden ayrıldığını, kaldığını veya hizmete kaydolduğunu gösterir.\n",
    "\n",
    "Hedef değişken \"churn\" olarak belirtilmiş olup; 1 müşterinin hizmeti terkettiğini, 0 ise terketmediğini göstermektedir.\n",
    "\n",
    "**CustomerId :** Müşteri İd’si\n",
    "\n",
    "**Gender :** Cinsiyet\n",
    "\n",
    "**SeniorCitizen :** Müşterinin yaşlı olup olmadığı (1, 0)\n",
    "\n",
    "**Partner :** Müşterinin bir ortağı olup olmadığı (Evet, Hayır) ? Evli olup olmama\n",
    "\n",
    "**Dependents :** Müşterinin bakmakla yükümlü olduğu kişiler olup olmadığı (Evet, Hayır) (Çocuk, anne, baba, büyükanne)\n",
    "\n",
    "tenure : Müşterinin şirkette kaldığı ay sayısı\n",
    "\n",
    "**PhoneService :** Müşterinin telefon hizmeti olup olmadığı (Evet, Hayır)\n",
    "\n",
    "**MultipleLines :** Müşterinin birden fazla hattı olup olmadığı (Evet, Hayır, Telefon hizmeti yok)\n",
    "\n",
    "**InternetService :** Müşterinin internet servis sağlayıcısı (DSL, Fiber optik, Hayır)\n",
    "\n",
    "**OnlineSecurity :** Müşterinin çevrimiçi güvenliğinin olup olmadığı (Evet, Hayır, İnternet hizmeti yok)\n",
    "\n",
    "**OnlineBackup :** Müşterinin online yedeğinin olup olmadığı (Evet, Hayır, İnternet hizmeti yok)\n",
    "\n",
    "**DeviceProtection :** Müşterinin cihaz korumasına sahip olup olmadığı (Evet, Hayır, İnternet hizmeti yok)\n",
    "\n",
    "**TechSupport :** Müşterinin teknik destek alıp almadığı (Evet, Hayır, İnternet hizmeti yok)\n",
    "\n",
    "**StreamingTV :** Müşterinin TV yayını olup olmadığı (Evet, Hayır, İnternet hizmeti yok) Müşterinin, bir üçüncü taraf sağlayıcıdan televizyon programları yayınlamak için İnternet hizmetini kullanıp kullanmadığını gösterir\n",
    "\n",
    "**StreamingMovies :** Müşterinin film akışı olup olmadığı (Evet, Hayır, İnternet hizmeti yok) Müşterinin bir üçüncü taraf sağlayıcıdan film akışı yapmak için İnternet hizmetini kullanıp kullanmadığını gösterir\n",
    "\n",
    "**Contract :** Müşterinin sözleşme süresi (Aydan aya, Bir yıl, İki yıl)\n",
    "\n",
    "**PaperlessBilling :** Müşterinin kağıtsız faturası olup olmadığı (Evet, Hayır)\n",
    "\n",
    "**PaymentMethod :** Müşterinin ödeme yöntemi (Elektronik çek, Posta çeki, Banka havalesi (otomatik), Kredi kartı (otomatik))\n",
    "\n",
    "**MonthlyCharges :** Müşteriden aylık olarak tahsil edilen tutar\n",
    "\n",
    "**TotalCharges :** Müşteriden tahsil edilen toplam tutar\n",
    "\n",
    "**Churn :** Müşterinin kullanıp kullanmadığı (Evet veya Hayır) - Geçen ay veya çeyreklik içerisinde ayrılan müşteriler"
   ]
  },
  {
   "cell_type": "markdown",
   "metadata": {},
   "source": [
    "***2. Kütüphaneleri Yükleme***"
   ]
  },
  {
   "cell_type": "code",
   "execution_count": 2,
   "metadata": {
    "execution": {
     "iopub.execute_input": "2022-12-18T12:31:06.829033Z",
     "iopub.status.busy": "2022-12-18T12:31:06.828424Z",
     "iopub.status.idle": "2022-12-18T12:31:10.955732Z",
     "shell.execute_reply": "2022-12-18T12:31:10.954336Z",
     "shell.execute_reply.started": "2022-12-18T12:31:06.828925Z"
    }
   },
   "outputs": [],
   "source": [
    "import numpy as np\n",
    "import pandas as pd\n",
    "import matplotlib.pyplot as plt\n",
    "import seaborn as sns\n",
    "from sklearn.linear_model import LogisticRegression\n",
    "from sklearn.neighbors import KNeighborsClassifier\n",
    "from sklearn.preprocessing import LabelEncoder\n",
    "from sklearn.model_selection import GridSearchCV, cross_validate\n",
    "from sklearn.tree import DecisionTreeClassifier\n",
    "from sklearn.ensemble import RandomForestClassifier, VotingClassifier\n",
    "from catboost import CatBoostClassifier\n",
    "from lightgbm import LGBMClassifier\n",
    "from xgboost import XGBClassifier\n",
    "from sklearn.svm import SVC"
   ]
  },
  {
   "cell_type": "code",
   "execution_count": 3,
   "metadata": {
    "execution": {
     "iopub.execute_input": "2022-12-18T12:31:34.966792Z",
     "iopub.status.busy": "2022-12-18T12:31:34.966007Z",
     "iopub.status.idle": "2022-12-18T12:31:34.973080Z",
     "shell.execute_reply": "2022-12-18T12:31:34.971627Z",
     "shell.execute_reply.started": "2022-12-18T12:31:34.966753Z"
    }
   },
   "outputs": [],
   "source": [
    "import warnings\n",
    "warnings.filterwarnings(\"ignore\", category=DeprecationWarning) \n",
    "warnings.filterwarnings(\"ignore\", category=FutureWarning) "
   ]
  },
  {
   "cell_type": "code",
   "execution_count": 4,
   "metadata": {
    "execution": {
     "iopub.execute_input": "2022-12-18T12:31:58.047559Z",
     "iopub.status.busy": "2022-12-18T12:31:58.047106Z",
     "iopub.status.idle": "2022-12-18T12:31:58.054093Z",
     "shell.execute_reply": "2022-12-18T12:31:58.052968Z",
     "shell.execute_reply.started": "2022-12-18T12:31:58.047522Z"
    }
   },
   "outputs": [],
   "source": [
    "pd.set_option('display.max_columns', None)\n",
    "pd.set_option('display.width', None)\n",
    "pd.set_option('display.max_rows', 20)\n",
    "pd.set_option('display.float_format', lambda x: '%.3f' % x)"
   ]
  },
  {
   "cell_type": "code",
   "execution_count": 6,
   "metadata": {
    "execution": {
     "iopub.execute_input": "2022-12-18T12:49:58.376989Z",
     "iopub.status.busy": "2022-12-18T12:49:58.376579Z",
     "iopub.status.idle": "2022-12-18T12:49:58.419135Z",
     "shell.execute_reply": "2022-12-18T12:49:58.417963Z",
     "shell.execute_reply.started": "2022-12-18T12:49:58.376955Z"
    }
   },
   "outputs": [],
   "source": [
    "path = 'WA_Fn-UseC_-Telco-Customer-Churn.csv'\n",
    "df = pd.read_csv(path)"
   ]
  },
  {
   "cell_type": "markdown",
   "metadata": {},
   "source": [
    "Her satırda tek bir müşteri bilgisi bulunmaktadır. Değişkenleri incelediğimizde demografik bilgileri, müşteriye sağlanan hizmetler ve fatura bilgilerinden oluşmaktadır.\n",
    "\n",
    "müşteriye sağlanan hizmetler - phone, multiple lines, internet, online security, online backup, device protection, tech support, and streaming TV and movies\n",
    "Müşteri hesap bilgileri – ne kadar süredir müşteri oldukları, sözleşme, ödeme yöntemi, kağıtsız faturalandırma, aylık ücretler ve toplam ücretler\n",
    "Müşteriler hakkında demografik bilgiler - cinsiyet, yaş aralığı ve ortakları ve bakmakla yükümlü oldukları kişiler olup olmadığı"
   ]
  },
  {
   "cell_type": "code",
   "execution_count": 7,
   "metadata": {
    "execution": {
     "iopub.execute_input": "2022-12-18T12:50:00.629614Z",
     "iopub.status.busy": "2022-12-18T12:50:00.629197Z",
     "iopub.status.idle": "2022-12-18T12:50:00.652721Z",
     "shell.execute_reply": "2022-12-18T12:50:00.651581Z",
     "shell.execute_reply.started": "2022-12-18T12:50:00.629580Z"
    }
   },
   "outputs": [
    {
     "data": {
      "text/html": [
       "<div>\n",
       "<style scoped>\n",
       "    .dataframe tbody tr th:only-of-type {\n",
       "        vertical-align: middle;\n",
       "    }\n",
       "\n",
       "    .dataframe tbody tr th {\n",
       "        vertical-align: top;\n",
       "    }\n",
       "\n",
       "    .dataframe thead th {\n",
       "        text-align: right;\n",
       "    }\n",
       "</style>\n",
       "<table border=\"1\" class=\"dataframe\">\n",
       "  <thead>\n",
       "    <tr style=\"text-align: right;\">\n",
       "      <th></th>\n",
       "      <th>customerID</th>\n",
       "      <th>gender</th>\n",
       "      <th>SeniorCitizen</th>\n",
       "      <th>Partner</th>\n",
       "      <th>Dependents</th>\n",
       "      <th>tenure</th>\n",
       "      <th>PhoneService</th>\n",
       "      <th>MultipleLines</th>\n",
       "      <th>InternetService</th>\n",
       "      <th>OnlineSecurity</th>\n",
       "      <th>OnlineBackup</th>\n",
       "      <th>DeviceProtection</th>\n",
       "      <th>TechSupport</th>\n",
       "      <th>StreamingTV</th>\n",
       "      <th>StreamingMovies</th>\n",
       "      <th>Contract</th>\n",
       "      <th>PaperlessBilling</th>\n",
       "      <th>PaymentMethod</th>\n",
       "      <th>MonthlyCharges</th>\n",
       "      <th>TotalCharges</th>\n",
       "      <th>Churn</th>\n",
       "    </tr>\n",
       "  </thead>\n",
       "  <tbody>\n",
       "    <tr>\n",
       "      <th>0</th>\n",
       "      <td>7590-VHVEG</td>\n",
       "      <td>Female</td>\n",
       "      <td>0</td>\n",
       "      <td>Yes</td>\n",
       "      <td>No</td>\n",
       "      <td>1</td>\n",
       "      <td>No</td>\n",
       "      <td>No phone service</td>\n",
       "      <td>DSL</td>\n",
       "      <td>No</td>\n",
       "      <td>Yes</td>\n",
       "      <td>No</td>\n",
       "      <td>No</td>\n",
       "      <td>No</td>\n",
       "      <td>No</td>\n",
       "      <td>Month-to-month</td>\n",
       "      <td>Yes</td>\n",
       "      <td>Electronic check</td>\n",
       "      <td>29.850</td>\n",
       "      <td>29.85</td>\n",
       "      <td>No</td>\n",
       "    </tr>\n",
       "    <tr>\n",
       "      <th>1</th>\n",
       "      <td>5575-GNVDE</td>\n",
       "      <td>Male</td>\n",
       "      <td>0</td>\n",
       "      <td>No</td>\n",
       "      <td>No</td>\n",
       "      <td>34</td>\n",
       "      <td>Yes</td>\n",
       "      <td>No</td>\n",
       "      <td>DSL</td>\n",
       "      <td>Yes</td>\n",
       "      <td>No</td>\n",
       "      <td>Yes</td>\n",
       "      <td>No</td>\n",
       "      <td>No</td>\n",
       "      <td>No</td>\n",
       "      <td>One year</td>\n",
       "      <td>No</td>\n",
       "      <td>Mailed check</td>\n",
       "      <td>56.950</td>\n",
       "      <td>1889.5</td>\n",
       "      <td>No</td>\n",
       "    </tr>\n",
       "    <tr>\n",
       "      <th>2</th>\n",
       "      <td>3668-QPYBK</td>\n",
       "      <td>Male</td>\n",
       "      <td>0</td>\n",
       "      <td>No</td>\n",
       "      <td>No</td>\n",
       "      <td>2</td>\n",
       "      <td>Yes</td>\n",
       "      <td>No</td>\n",
       "      <td>DSL</td>\n",
       "      <td>Yes</td>\n",
       "      <td>Yes</td>\n",
       "      <td>No</td>\n",
       "      <td>No</td>\n",
       "      <td>No</td>\n",
       "      <td>No</td>\n",
       "      <td>Month-to-month</td>\n",
       "      <td>Yes</td>\n",
       "      <td>Mailed check</td>\n",
       "      <td>53.850</td>\n",
       "      <td>108.15</td>\n",
       "      <td>Yes</td>\n",
       "    </tr>\n",
       "    <tr>\n",
       "      <th>3</th>\n",
       "      <td>7795-CFOCW</td>\n",
       "      <td>Male</td>\n",
       "      <td>0</td>\n",
       "      <td>No</td>\n",
       "      <td>No</td>\n",
       "      <td>45</td>\n",
       "      <td>No</td>\n",
       "      <td>No phone service</td>\n",
       "      <td>DSL</td>\n",
       "      <td>Yes</td>\n",
       "      <td>No</td>\n",
       "      <td>Yes</td>\n",
       "      <td>Yes</td>\n",
       "      <td>No</td>\n",
       "      <td>No</td>\n",
       "      <td>One year</td>\n",
       "      <td>No</td>\n",
       "      <td>Bank transfer (automatic)</td>\n",
       "      <td>42.300</td>\n",
       "      <td>1840.75</td>\n",
       "      <td>No</td>\n",
       "    </tr>\n",
       "    <tr>\n",
       "      <th>4</th>\n",
       "      <td>9237-HQITU</td>\n",
       "      <td>Female</td>\n",
       "      <td>0</td>\n",
       "      <td>No</td>\n",
       "      <td>No</td>\n",
       "      <td>2</td>\n",
       "      <td>Yes</td>\n",
       "      <td>No</td>\n",
       "      <td>Fiber optic</td>\n",
       "      <td>No</td>\n",
       "      <td>No</td>\n",
       "      <td>No</td>\n",
       "      <td>No</td>\n",
       "      <td>No</td>\n",
       "      <td>No</td>\n",
       "      <td>Month-to-month</td>\n",
       "      <td>Yes</td>\n",
       "      <td>Electronic check</td>\n",
       "      <td>70.700</td>\n",
       "      <td>151.65</td>\n",
       "      <td>Yes</td>\n",
       "    </tr>\n",
       "  </tbody>\n",
       "</table>\n",
       "</div>"
      ],
      "text/plain": [
       "   customerID  gender  SeniorCitizen Partner Dependents  tenure PhoneService  \\\n",
       "0  7590-VHVEG  Female              0     Yes         No       1           No   \n",
       "1  5575-GNVDE    Male              0      No         No      34          Yes   \n",
       "2  3668-QPYBK    Male              0      No         No       2          Yes   \n",
       "3  7795-CFOCW    Male              0      No         No      45           No   \n",
       "4  9237-HQITU  Female              0      No         No       2          Yes   \n",
       "\n",
       "      MultipleLines InternetService OnlineSecurity OnlineBackup  \\\n",
       "0  No phone service             DSL             No          Yes   \n",
       "1                No             DSL            Yes           No   \n",
       "2                No             DSL            Yes          Yes   \n",
       "3  No phone service             DSL            Yes           No   \n",
       "4                No     Fiber optic             No           No   \n",
       "\n",
       "  DeviceProtection TechSupport StreamingTV StreamingMovies        Contract  \\\n",
       "0               No          No          No              No  Month-to-month   \n",
       "1              Yes          No          No              No        One year   \n",
       "2               No          No          No              No  Month-to-month   \n",
       "3              Yes         Yes          No              No        One year   \n",
       "4               No          No          No              No  Month-to-month   \n",
       "\n",
       "  PaperlessBilling              PaymentMethod  MonthlyCharges TotalCharges  \\\n",
       "0              Yes           Electronic check          29.850        29.85   \n",
       "1               No               Mailed check          56.950       1889.5   \n",
       "2              Yes               Mailed check          53.850       108.15   \n",
       "3               No  Bank transfer (automatic)          42.300      1840.75   \n",
       "4              Yes           Electronic check          70.700       151.65   \n",
       "\n",
       "  Churn  \n",
       "0    No  \n",
       "1    No  \n",
       "2   Yes  \n",
       "3    No  \n",
       "4   Yes  "
      ]
     },
     "execution_count": 7,
     "metadata": {},
     "output_type": "execute_result"
    }
   ],
   "source": [
    "df.head()"
   ]
  },
  {
   "cell_type": "code",
   "execution_count": 8,
   "metadata": {
    "execution": {
     "iopub.execute_input": "2022-12-18T12:50:06.709316Z",
     "iopub.status.busy": "2022-12-18T12:50:06.708329Z",
     "iopub.status.idle": "2022-12-18T12:50:06.717371Z",
     "shell.execute_reply": "2022-12-18T12:50:06.716100Z",
     "shell.execute_reply.started": "2022-12-18T12:50:06.709272Z"
    }
   },
   "outputs": [
    {
     "data": {
      "text/plain": [
       "(7043, 21)"
      ]
     },
     "execution_count": 8,
     "metadata": {},
     "output_type": "execute_result"
    }
   ],
   "source": [
    "df.shape"
   ]
  },
  {
   "cell_type": "markdown",
   "metadata": {},
   "source": [
    "***3.Keşifçi Veri Analizi***\n",
    "\n",
    "Numerik ve Kategorik Değişkenlerin Ayrılması"
   ]
  },
  {
   "cell_type": "code",
   "execution_count": 9,
   "metadata": {
    "execution": {
     "iopub.execute_input": "2022-12-18T12:50:09.210079Z",
     "iopub.status.busy": "2022-12-18T12:50:09.209641Z",
     "iopub.status.idle": "2022-12-18T12:50:09.222323Z",
     "shell.execute_reply": "2022-12-18T12:50:09.220587Z",
     "shell.execute_reply.started": "2022-12-18T12:50:09.210042Z"
    }
   },
   "outputs": [],
   "source": [
    "def grab_col_names(dataframe, cat_th=10, car_th=20):\n",
    "    \"\"\"\n",
    "\n",
    "    Veri setindeki kategorik, numerik ve kategorik fakat kardinal değişkenlerin isimlerini verir.\n",
    "    Not: Kategorik değişkenlerin içerisine numerik görünümlü kategorik değişkenler de dahildir.\n",
    "\n",
    "    Parameters\n",
    "    ------\n",
    "        dataframe: dataframe\n",
    "                Değişken isimleri alınmak istenilen dataframe\n",
    "        cat_th: int, optional\n",
    "                numerik fakat kategorik olan değişkenler için sınıf eşik değeri\n",
    "        car_th: int, optional\n",
    "                kategorik fakat kardinal değişkenler için sınıf eşik değeri\n",
    "\n",
    "    Returns\n",
    "    ------\n",
    "        cat_cols: list\n",
    "                Kategorik değişken listesi\n",
    "        num_cols: list\n",
    "                Numerik değişken listesi\n",
    "        cat_but_car: list\n",
    "                Kategorik görünümlü kardinal değişken listesi\n",
    "\n",
    "    Examples\n",
    "    ------\n",
    "        import seaborn as sns\n",
    "        df = sns.load_dataset(\"iris\")\n",
    "        print(grab_col_names(df))\n",
    "\n",
    "\n",
    "    Notes\n",
    "    ------\n",
    "        cat_cols + num_cols + cat_but_car = toplam değişken sayısı\n",
    "        num_but_cat cat_cols'un içerisinde.\n",
    "\n",
    "    \"\"\"\n",
    "    # cat_cols, cat_but_car\n",
    "    cat_cols = [col for col in dataframe.columns if dataframe[col].dtypes == \"O\"]\n",
    "    num_but_cat = [col for col in dataframe.columns if dataframe[col].nunique() < cat_th and dataframe[col].dtypes != \"O\"]\n",
    "    cat_but_car = [col for col in dataframe.columns if dataframe[col].nunique() > car_th and dataframe[col].dtypes == \"O\"]\n",
    "    cat_cols = cat_cols + num_but_cat\n",
    "    cat_cols = [col for col in cat_cols if col not in cat_but_car]\n",
    "\n",
    "    # num_cols\n",
    "    num_cols = [col for col in dataframe.columns if dataframe[col].dtypes != \"O\"]\n",
    "    num_cols = [col for col in num_cols if col not in num_but_cat]\n",
    "\n",
    "    print(f\"Observations: {dataframe.shape[0]}\")\n",
    "    print(f\"Variables: {dataframe.shape[1]}\")\n",
    "    print(f'cat_cols: {len(cat_cols)}')\n",
    "    print(f'num_cols: {len(num_cols)}')\n",
    "    print(f'cat_but_car: {len(cat_but_car)}')\n",
    "    print(f'num_but_cat: {len(num_but_cat)}')\n",
    "\n",
    "    return cat_cols, num_cols, cat_but_car"
   ]
  },
  {
   "cell_type": "code",
   "execution_count": 10,
   "metadata": {
    "execution": {
     "iopub.execute_input": "2022-12-18T12:50:13.343675Z",
     "iopub.status.busy": "2022-12-18T12:50:13.342297Z",
     "iopub.status.idle": "2022-12-18T12:50:13.379653Z",
     "shell.execute_reply": "2022-12-18T12:50:13.378361Z",
     "shell.execute_reply.started": "2022-12-18T12:50:13.343629Z"
    }
   },
   "outputs": [
    {
     "name": "stdout",
     "output_type": "stream",
     "text": [
      "Observations: 7043\n",
      "Variables: 21\n",
      "cat_cols: 17\n",
      "num_cols: 2\n",
      "cat_but_car: 2\n",
      "num_but_cat: 1\n"
     ]
    }
   ],
   "source": [
    "cat_cols, num_cols, cat_but_car = grab_col_names(df)"
   ]
  },
  {
   "cell_type": "code",
   "execution_count": 11,
   "metadata": {
    "execution": {
     "iopub.execute_input": "2022-12-18T12:50:15.663587Z",
     "iopub.status.busy": "2022-12-18T12:50:15.663157Z",
     "iopub.status.idle": "2022-12-18T12:50:15.670734Z",
     "shell.execute_reply": "2022-12-18T12:50:15.669949Z",
     "shell.execute_reply.started": "2022-12-18T12:50:15.663551Z"
    }
   },
   "outputs": [
    {
     "data": {
      "text/plain": [
       "['gender',\n",
       " 'Partner',\n",
       " 'Dependents',\n",
       " 'PhoneService',\n",
       " 'MultipleLines',\n",
       " 'InternetService',\n",
       " 'OnlineSecurity',\n",
       " 'OnlineBackup',\n",
       " 'DeviceProtection',\n",
       " 'TechSupport',\n",
       " 'StreamingTV',\n",
       " 'StreamingMovies',\n",
       " 'Contract',\n",
       " 'PaperlessBilling',\n",
       " 'PaymentMethod',\n",
       " 'Churn',\n",
       " 'SeniorCitizen']"
      ]
     },
     "execution_count": 11,
     "metadata": {},
     "output_type": "execute_result"
    }
   ],
   "source": [
    "cat_cols"
   ]
  },
  {
   "cell_type": "code",
   "execution_count": 12,
   "metadata": {
    "execution": {
     "iopub.execute_input": "2022-12-18T12:50:24.222335Z",
     "iopub.status.busy": "2022-12-18T12:50:24.221920Z",
     "iopub.status.idle": "2022-12-18T12:50:24.229068Z",
     "shell.execute_reply": "2022-12-18T12:50:24.228157Z",
     "shell.execute_reply.started": "2022-12-18T12:50:24.222301Z"
    }
   },
   "outputs": [
    {
     "data": {
      "text/plain": [
       "['tenure', 'MonthlyCharges']"
      ]
     },
     "execution_count": 12,
     "metadata": {},
     "output_type": "execute_result"
    }
   ],
   "source": [
    "num_cols"
   ]
  },
  {
   "cell_type": "code",
   "execution_count": 13,
   "metadata": {
    "execution": {
     "iopub.execute_input": "2022-12-18T12:50:26.174519Z",
     "iopub.status.busy": "2022-12-18T12:50:26.174051Z",
     "iopub.status.idle": "2022-12-18T12:50:26.182697Z",
     "shell.execute_reply": "2022-12-18T12:50:26.181269Z",
     "shell.execute_reply.started": "2022-12-18T12:50:26.174466Z"
    }
   },
   "outputs": [
    {
     "data": {
      "text/plain": [
       "['customerID', 'TotalCharges']"
      ]
     },
     "execution_count": 13,
     "metadata": {},
     "output_type": "execute_result"
    }
   ],
   "source": [
    "cat_but_car"
   ]
  },
  {
   "cell_type": "markdown",
   "metadata": {},
   "source": [
    "TotalCharges kardinal gözüküyor sürekli değişken olması gerekmektedir."
   ]
  },
  {
   "cell_type": "markdown",
   "metadata": {},
   "source": [
    "Gerekli düzenlemeleri yapmalıyız. (Tip hatası olan değişkenler gibi)"
   ]
  },
  {
   "cell_type": "code",
   "execution_count": 14,
   "metadata": {
    "execution": {
     "iopub.execute_input": "2022-12-18T12:50:29.208637Z",
     "iopub.status.busy": "2022-12-18T12:50:29.208220Z",
     "iopub.status.idle": "2022-12-18T12:50:29.216937Z",
     "shell.execute_reply": "2022-12-18T12:50:29.215632Z",
     "shell.execute_reply.started": "2022-12-18T12:50:29.208603Z"
    }
   },
   "outputs": [
    {
     "data": {
      "text/plain": [
       "dtype('O')"
      ]
     },
     "execution_count": 14,
     "metadata": {},
     "output_type": "execute_result"
    }
   ],
   "source": [
    "pd.to_numeric(df[\"TotalCharges\"], errors='ignore').dtype"
   ]
  },
  {
   "cell_type": "code",
   "execution_count": 15,
   "metadata": {
    "execution": {
     "iopub.execute_input": "2022-12-18T12:50:34.713648Z",
     "iopub.status.busy": "2022-12-18T12:50:34.713212Z",
     "iopub.status.idle": "2022-12-18T12:50:34.719682Z",
     "shell.execute_reply": "2022-12-18T12:50:34.718542Z",
     "shell.execute_reply.started": "2022-12-18T12:50:34.713609Z"
    }
   },
   "outputs": [],
   "source": [
    "df[\"TotalCharges\"] = pd.to_numeric(df[\"TotalCharges\"], errors='coerce')"
   ]
  },
  {
   "cell_type": "markdown",
   "metadata": {},
   "source": [
    "TotalCharges'ı değiştirdiğimiz için yeniden grab_col_names fonksiyonumuzu çağırıyoruz ve doğru gelip gelmediğini kontrol ediyoruz."
   ]
  },
  {
   "cell_type": "code",
   "execution_count": 16,
   "metadata": {
    "execution": {
     "iopub.execute_input": "2022-12-18T12:50:38.184205Z",
     "iopub.status.busy": "2022-12-18T12:50:38.183785Z",
     "iopub.status.idle": "2022-12-18T12:50:38.215078Z",
     "shell.execute_reply": "2022-12-18T12:50:38.214032Z",
     "shell.execute_reply.started": "2022-12-18T12:50:38.184171Z"
    }
   },
   "outputs": [
    {
     "name": "stdout",
     "output_type": "stream",
     "text": [
      "Observations: 7043\n",
      "Variables: 21\n",
      "cat_cols: 17\n",
      "num_cols: 3\n",
      "cat_but_car: 1\n",
      "num_but_cat: 1\n"
     ]
    }
   ],
   "source": [
    "cat_cols, num_cols, cat_but_car = grab_col_names(df)"
   ]
  },
  {
   "cell_type": "code",
   "execution_count": 17,
   "metadata": {
    "execution": {
     "iopub.execute_input": "2022-12-18T12:50:40.341358Z",
     "iopub.status.busy": "2022-12-18T12:50:40.340347Z",
     "iopub.status.idle": "2022-12-18T12:50:40.347915Z",
     "shell.execute_reply": "2022-12-18T12:50:40.347073Z",
     "shell.execute_reply.started": "2022-12-18T12:50:40.341302Z"
    }
   },
   "outputs": [
    {
     "data": {
      "text/plain": [
       "['tenure', 'MonthlyCharges', 'TotalCharges']"
      ]
     },
     "execution_count": 17,
     "metadata": {},
     "output_type": "execute_result"
    }
   ],
   "source": [
    "num_cols"
   ]
  },
  {
   "cell_type": "markdown",
   "metadata": {},
   "source": [
    "Hedef değişkenimizi de daha sonra dağılımları incelerken kullanabilmek adına Yes/No'dan 1/0 olarak değiştiriyoruz."
   ]
  },
  {
   "cell_type": "code",
   "execution_count": 18,
   "metadata": {
    "execution": {
     "iopub.execute_input": "2022-12-18T12:50:42.644519Z",
     "iopub.status.busy": "2022-12-18T12:50:42.643334Z",
     "iopub.status.idle": "2022-12-18T12:50:42.655181Z",
     "shell.execute_reply": "2022-12-18T12:50:42.654028Z",
     "shell.execute_reply.started": "2022-12-18T12:50:42.644466Z"
    }
   },
   "outputs": [],
   "source": [
    "df[\"Churn\"] = df[\"Churn\"].apply(lambda x : 1 if x == \"Yes\" else 0)"
   ]
  },
  {
   "cell_type": "markdown",
   "metadata": {},
   "source": [
    "Numerik ve kategorik değişkenlerin veri içindeki dağılımını gözlemlemeliyiz.\n",
    "\n",
    "Kategorik Değişkenlerin Analizi"
   ]
  },
  {
   "cell_type": "code",
   "execution_count": 19,
   "metadata": {
    "execution": {
     "iopub.execute_input": "2022-12-18T12:50:57.441456Z",
     "iopub.status.busy": "2022-12-18T12:50:57.441070Z",
     "iopub.status.idle": "2022-12-18T12:50:57.447994Z",
     "shell.execute_reply": "2022-12-18T12:50:57.447178Z",
     "shell.execute_reply.started": "2022-12-18T12:50:57.441426Z"
    }
   },
   "outputs": [],
   "source": [
    "def cat_summary(dataframe, col_name, plot=True):\n",
    "    print(pd.DataFrame({col_name: dataframe[col_name].value_counts(),\n",
    "                        \"Ratio\": 100 * dataframe[col_name].value_counts() / len(dataframe)}))\n",
    "    print(\"##########################################\")\n",
    "    if plot:\n",
    "        sns.countplot(x=dataframe[col_name], data=dataframe)\n",
    "        plt.show()"
   ]
  },
  {
   "cell_type": "code",
   "execution_count": 20,
   "metadata": {
    "execution": {
     "iopub.execute_input": "2022-12-18T12:50:59.910420Z",
     "iopub.status.busy": "2022-12-18T12:50:59.910016Z",
     "iopub.status.idle": "2022-12-18T12:51:00.097523Z",
     "shell.execute_reply": "2022-12-18T12:51:00.096270Z",
     "shell.execute_reply.started": "2022-12-18T12:50:59.910378Z"
    }
   },
   "outputs": [
    {
     "name": "stdout",
     "output_type": "stream",
     "text": [
      "     PhoneService  Ratio\n",
      "Yes          6361 90.317\n",
      "No            682  9.683\n",
      "##########################################\n"
     ]
    },
    {
     "data": {
      "image/png": "[encoded data removed]",
      "text/plain": [
       "<Figure size 432x288 with 1 Axes>"
      ]
     },
     "metadata": {
      "needs_background": "light"
     },
     "output_type": "display_data"
    }
   ],
   "source": [
    "cat_summary(df,\"PhoneService\")"
   ]
  },
  {
   "cell_type": "markdown",
   "metadata": {},
   "source": [
    "PhoneService değişkeninde %90'ı Yes geliyor. Hedef değişkenimiz Churn %73 terketmeyen %27 terkedenlerden oluşuyor. Bu modelde dengesizlik yaratır mı?"
   ]
  },
  {
   "cell_type": "code",
   "execution_count": 21,
   "metadata": {
    "execution": {
     "iopub.execute_input": "2022-12-18T12:51:03.165806Z",
     "iopub.status.busy": "2022-12-18T12:51:03.165275Z",
     "iopub.status.idle": "2022-12-18T12:51:05.770355Z",
     "shell.execute_reply": "2022-12-18T12:51:05.768871Z",
     "shell.execute_reply.started": "2022-12-18T12:51:03.165768Z"
    }
   },
   "outputs": [
    {
     "name": "stdout",
     "output_type": "stream",
     "text": [
      "        gender  Ratio\n",
      "Male      3555 50.476\n",
      "Female    3488 49.524\n",
      "##########################################\n"
     ]
    },
    {
     "data": {
      "image/png": "[encoded data removed]",
      "text/plain": [
       "<Figure size 432x288 with 1 Axes>"
      ]
     },
     "metadata": {
      "needs_background": "light"
     },
     "output_type": "display_data"
    },
    {
     "name": "stdout",
     "output_type": "stream",
     "text": [
      "     Partner  Ratio\n",
      "No      3641 51.697\n",
      "Yes     3402 48.303\n",
      "##########################################\n"
     ]
    },
    {
     "data": {
      "image/png": "[encoded data removed]",
      "text/plain": [
       "<Figure size 432x288 with 1 Axes>"
      ]
     },
     "metadata": {
      "needs_background": "light"
     },
     "output_type": "display_data"
    },
    {
     "name": "stdout",
     "output_type": "stream",
     "text": [
      "     Dependents  Ratio\n",
      "No         4933 70.041\n",
      "Yes        2110 29.959\n",
      "##########################################\n"
     ]
    },
    {
     "data": {
      "image/png": "[encoded data removed]",
      "text/plain": [
       "<Figure size 432x288 with 1 Axes>"
      ]
     },
     "metadata": {
      "needs_background": "light"
     },
     "output_type": "display_data"
    },
    {
     "name": "stdout",
     "output_type": "stream",
     "text": [
      "     PhoneService  Ratio\n",
      "Yes          6361 90.317\n",
      "No            682  9.683\n",
      "##########################################\n"
     ]
    },
    {
     "data": {
      "image/png": "[encoded data removed]",
      "text/plain": [
       "<Figure size 432x288 with 1 Axes>"
      ]
     },
     "metadata": {
      "needs_background": "light"
     },
     "output_type": "display_data"
    },
    {
     "name": "stdout",
     "output_type": "stream",
     "text": [
      "                  MultipleLines  Ratio\n",
      "No                         3390 48.133\n",
      "Yes                        2971 42.184\n",
      "No phone service            682  9.683\n",
      "##########################################\n"
     ]
    },
    {
     "data": {
      "image/png": "[encoded data removed]",
      "text/plain": [
       "<Figure size 432x288 with 1 Axes>"
      ]
     },
     "metadata": {
      "needs_background": "light"
     },
     "output_type": "display_data"
    },
    {
     "name": "stdout",
     "output_type": "stream",
     "text": [
      "             InternetService  Ratio\n",
      "Fiber optic             3096 43.959\n",
      "DSL                     2421 34.375\n",
      "No                      1526 21.667\n",
      "##########################################\n"
     ]
    },
    {
     "data": {
      "image/png": "[encoded data removed]",
      "text/plain": [
       "<Figure size 432x288 with 1 Axes>"
      ]
     },
     "metadata": {
      "needs_background": "light"
     },
     "output_type": "display_data"
    },
    {
     "name": "stdout",
     "output_type": "stream",
     "text": [
      "                     OnlineSecurity  Ratio\n",
      "No                             3498 49.666\n",
      "Yes                            2019 28.667\n",
      "No internet service            1526 21.667\n",
      "##########################################\n"
     ]
    },
    {
     "data": {
      "image/png": "[encoded data removed]",
      "text/plain": [
       "<Figure size 432x288 with 1 Axes>"
      ]
     },
     "metadata": {
      "needs_background": "light"
     },
     "output_type": "display_data"
    },
    {
     "name": "stdout",
     "output_type": "stream",
     "text": [
      "                     OnlineBackup  Ratio\n",
      "No                           3088 43.845\n",
      "Yes                          2429 34.488\n",
      "No internet service          1526 21.667\n",
      "##########################################\n"
     ]
    },
    {
     "data": {
      "image/png": "[encoded data removed]",
      "text/plain": [
       "<Figure size 432x288 with 1 Axes>"
      ]
     },
     "metadata": {
      "needs_background": "light"
     },
     "output_type": "display_data"
    },
    {
     "name": "stdout",
     "output_type": "stream",
     "text": [
      "                     DeviceProtection  Ratio\n",
      "No                               3095 43.944\n",
      "Yes                              2422 34.389\n",
      "No internet service              1526 21.667\n",
      "##########################################\n"
     ]
    },
    {
     "data": {
      "image/png": "[encoded data removed]",
      "text/plain": [
       "<Figure size 432x288 with 1 Axes>"
      ]
     },
     "metadata": {
      "needs_background": "light"
     },
     "output_type": "display_data"
    },
    {
     "name": "stdout",
     "output_type": "stream",
     "text": [
      "                     TechSupport  Ratio\n",
      "No                          3473 49.311\n",
      "Yes                         2044 29.022\n",
      "No internet service         1526 21.667\n",
      "##########################################\n"
     ]
    },
    {
     "data": {
      "image/png": "[encoded data removed]",
      "text/plain": [
       "<Figure size 432x288 with 1 Axes>"
      ]
     },
     "metadata": {
      "needs_background": "light"
     },
     "output_type": "display_data"
    },
    {
     "name": "stdout",
     "output_type": "stream",
     "text": [
      "                     StreamingTV  Ratio\n",
      "No                          2810 39.898\n",
      "Yes                         2707 38.435\n",
      "No internet service         1526 21.667\n",
      "##########################################\n"
     ]
    },
    {
     "data": {
      "image/png": "[encoded data removed]",
      "text/plain": [
       "<Figure size 432x288 with 1 Axes>"
      ]
     },
     "metadata": {
      "needs_background": "light"
     },
     "output_type": "display_data"
    },
    {
     "name": "stdout",
     "output_type": "stream",
     "text": [
      "                     StreamingMovies  Ratio\n",
      "No                              2785 39.543\n",
      "Yes                             2732 38.790\n",
      "No internet service             1526 21.667\n",
      "##########################################\n"
     ]
    },
    {
     "data": {
      "image/png": "[encoded data removed]",
      "text/plain": [
       "<Figure size 432x288 with 1 Axes>"
      ]
     },
     "metadata": {
      "needs_background": "light"
     },
     "output_type": "display_data"
    },
    {
     "name": "stdout",
     "output_type": "stream",
     "text": [
      "                Contract  Ratio\n",
      "Month-to-month      3875 55.019\n",
      "Two year            1695 24.066\n",
      "One year            1473 20.914\n",
      "##########################################\n"
     ]
    },
    {
     "data": {
      "image/png": "[encoded data removed]",
      "text/plain": [
       "<Figure size 432x288 with 1 Axes>"
      ]
     },
     "metadata": {
      "needs_background": "light"
     },
     "output_type": "display_data"
    },
    {
     "name": "stdout",
     "output_type": "stream",
     "text": [
      "     PaperlessBilling  Ratio\n",
      "Yes              4171 59.222\n",
      "No               2872 40.778\n",
      "##########################################\n"
     ]
    },
    {
     "data": {
      "image/png": "[encoded data removed]",
      "text/plain": [
       "<Figure size 432x288 with 1 Axes>"
      ]
     },
     "metadata": {
      "needs_background": "light"
     },
     "output_type": "display_data"
    },
    {
     "name": "stdout",
     "output_type": "stream",
     "text": [
      "                           PaymentMethod  Ratio\n",
      "Electronic check                    2365 33.579\n",
      "Mailed check                        1612 22.888\n",
      "Bank transfer (automatic)           1544 21.922\n",
      "Credit card (automatic)             1522 21.610\n",
      "##########################################\n"
     ]
    },
    {
     "data": {
      "image/png": "[encoded data removed]",
      "text/plain": [
       "<Figure size 432x288 with 1 Axes>"
      ]
     },
     "metadata": {
      "needs_background": "light"
     },
     "output_type": "display_data"
    },
    {
     "name": "stdout",
     "output_type": "stream",
     "text": [
      "   Churn  Ratio\n",
      "0   5174 73.463\n",
      "1   1869 26.537\n",
      "##########################################\n"
     ]
    },
    {
     "data": {
      "image/png": "[encoded data removed]",
      "text/plain": [
       "<Figure size 432x288 with 1 Axes>"
      ]
     },
     "metadata": {
      "needs_background": "light"
     },
     "output_type": "display_data"
    },
    {
     "name": "stdout",
     "output_type": "stream",
     "text": [
      "   SeniorCitizen  Ratio\n",
      "0           5901 83.785\n",
      "1           1142 16.215\n",
      "##########################################\n"
     ]
    },
    {
     "data": {
      "image/png": "[encoded data removed]",
      "text/plain": [
       "<Figure size 432x288 with 1 Axes>"
      ]
     },
     "metadata": {
      "needs_background": "light"
     },
     "output_type": "display_data"
    }
   ],
   "source": [
    "for col in cat_cols:\n",
    "    cat_summary(df, col, plot=True)"
   ]
  },
  {
   "cell_type": "markdown",
   "metadata": {},
   "source": [
    "Numerik Değişkenlerin Analizi\n",
    "\n"
   ]
  },
  {
   "cell_type": "code",
   "execution_count": 22,
   "metadata": {
    "execution": {
     "iopub.execute_input": "2022-12-18T12:51:13.703491Z",
     "iopub.status.busy": "2022-12-18T12:51:13.702972Z",
     "iopub.status.idle": "2022-12-18T12:51:13.714141Z",
     "shell.execute_reply": "2022-12-18T12:51:13.712447Z",
     "shell.execute_reply.started": "2022-12-18T12:51:13.703429Z"
    }
   },
   "outputs": [],
   "source": [
    "def num_summary(dataframe, numerical_col, plot=False):\n",
    "    quantiles = [0.05, 0.10, 0.20, 0.30, 0.40, 0.50, 0.60, 0.70, 0.80, 0.90, 0.95, 0.99]\n",
    "    print(dataframe[numerical_col].describe(quantiles).T)\n",
    "\n",
    "    if plot:\n",
    "        dataframe[numerical_col].hist(bins=20)\n",
    "        plt.xlabel(numerical_col)\n",
    "        plt.title(numerical_col)\n",
    "        plt.show()"
   ]
  },
  {
   "cell_type": "markdown",
   "metadata": {},
   "source": [
    "Tenure'a bakıldığında 1 aylık müşterilerin çok fazla olduğunu ardından da 70 aylık müşterilerin geldiği görülüyor. 3 farklı sözleşme türümüz vardı. Bunun farklı sözleşmelerden kaynaklanıp kaynaklanmadığını inceleyebiliriz."
   ]
  },
  {
   "cell_type": "code",
   "execution_count": 23,
   "metadata": {
    "execution": {
     "iopub.execute_input": "2022-12-18T12:51:19.413965Z",
     "iopub.status.busy": "2022-12-18T12:51:19.413580Z",
     "iopub.status.idle": "2022-12-18T12:51:20.117037Z",
     "shell.execute_reply": "2022-12-18T12:51:20.115796Z",
     "shell.execute_reply.started": "2022-12-18T12:51:19.413935Z"
    }
   },
   "outputs": [
    {
     "name": "stdout",
     "output_type": "stream",
     "text": [
      "count   7043.000\n",
      "mean      32.371\n",
      "std       24.559\n",
      "min        0.000\n",
      "5%         1.000\n",
      "10%        2.000\n",
      "20%        6.000\n",
      "30%       12.000\n",
      "40%       20.000\n",
      "50%       29.000\n",
      "60%       40.000\n",
      "70%       50.000\n",
      "80%       60.000\n",
      "90%       69.000\n",
      "95%       72.000\n",
      "99%       72.000\n",
      "max       72.000\n",
      "Name: tenure, dtype: float64\n"
     ]
    },
    {
     "data": {
      "image/png": "[encoded data removed]",
      "text/plain": [
       "<Figure size 432x288 with 1 Axes>"
      ]
     },
     "metadata": {
      "needs_background": "light"
     },
     "output_type": "display_data"
    },
    {
     "name": "stdout",
     "output_type": "stream",
     "text": [
      "count   7043.000\n",
      "mean      64.762\n",
      "std       30.090\n",
      "min       18.250\n",
      "5%        19.650\n",
      "10%       20.050\n",
      "20%       25.050\n",
      "30%       45.850\n",
      "40%       58.830\n",
      "50%       70.350\n",
      "60%       79.100\n",
      "70%       85.500\n",
      "80%       94.250\n",
      "90%      102.600\n",
      "95%      107.400\n",
      "99%      114.729\n",
      "max      118.750\n",
      "Name: MonthlyCharges, dtype: float64\n"
     ]
    },
    {
     "data": {
      "image/png": "[encoded data removed]",
      "text/plain": [
       "<Figure size 432x288 with 1 Axes>"
      ]
     },
     "metadata": {
      "needs_background": "light"
     },
     "output_type": "display_data"
    },
    {
     "name": "stdout",
     "output_type": "stream",
     "text": [
      "count   7032.000\n",
      "mean    2283.300\n",
      "std     2266.771\n",
      "min       18.800\n",
      "5%        49.605\n",
      "10%       84.600\n",
      "20%      267.070\n",
      "30%      551.995\n",
      "40%      944.170\n",
      "50%     1397.475\n",
      "60%     2048.950\n",
      "70%     3141.130\n",
      "80%     4475.410\n",
      "90%     5976.640\n",
      "95%     6923.590\n",
      "99%     8039.883\n",
      "max     8684.800\n",
      "Name: TotalCharges, dtype: float64\n"
     ]
    },
    {
     "data": {
      "image/png": "[encoded data removed]",
      "text/plain": [
       "<Figure size 432x288 with 1 Axes>"
      ]
     },
     "metadata": {
      "needs_background": "light"
     },
     "output_type": "display_data"
    }
   ],
   "source": [
    "for col in num_cols:\n",
    "    num_summary(df, col, plot=True)"
   ]
  },
  {
   "cell_type": "markdown",
   "metadata": {},
   "source": [
    "1 aylık ve iki yıl üzeri kontratlardan kaynaklı tenure içerisinde bir dağılım farklılığı varmış. Bunun aslında modelde etkili olmasını bekleriz."
   ]
  },
  {
   "cell_type": "code",
   "execution_count": 24,
   "metadata": {
    "execution": {
     "iopub.execute_input": "2022-12-18T12:51:23.878079Z",
     "iopub.status.busy": "2022-12-18T12:51:23.877656Z",
     "iopub.status.idle": "2022-12-18T12:51:24.119604Z",
     "shell.execute_reply": "2022-12-18T12:51:24.118444Z",
     "shell.execute_reply.started": "2022-12-18T12:51:23.878043Z"
    }
   },
   "outputs": [
    {
     "data": {
      "image/png": "[encoded data removed]",
      "text/plain": [
       "<Figure size 432x288 with 1 Axes>"
      ]
     },
     "metadata": {
      "needs_background": "light"
     },
     "output_type": "display_data"
    }
   ],
   "source": [
    "df[df[\"Contract\"] == \"Month-to-month\"][\"tenure\"].hist(bins=20)\n",
    "plt.xlabel(\"tenure\")\n",
    "plt.title(\"Month-to-month\")\n",
    "plt.show()"
   ]
  },
  {
   "cell_type": "code",
   "execution_count": 25,
   "metadata": {
    "execution": {
     "iopub.execute_input": "2022-12-18T12:51:26.718318Z",
     "iopub.status.busy": "2022-12-18T12:51:26.717888Z",
     "iopub.status.idle": "2022-12-18T12:51:26.963984Z",
     "shell.execute_reply": "2022-12-18T12:51:26.962859Z",
     "shell.execute_reply.started": "2022-12-18T12:51:26.718282Z"
    }
   },
   "outputs": [
    {
     "data": {
      "image/png": "[encoded data removed]",
      "text/plain": [
       "<Figure size 432x288 with 1 Axes>"
      ]
     },
     "metadata": {
      "needs_background": "light"
     },
     "output_type": "display_data"
    }
   ],
   "source": [
    "df[df[\"Contract\"] == \"Two year\"][\"tenure\"].hist(bins=20)\n",
    "plt.xlabel(\"tenure\")\n",
    "plt.title(\"Two year\")\n",
    "plt.show()"
   ]
  },
  {
   "cell_type": "code",
   "execution_count": 26,
   "metadata": {
    "execution": {
     "iopub.execute_input": "2022-12-18T12:51:29.801466Z",
     "iopub.status.busy": "2022-12-18T12:51:29.801051Z",
     "iopub.status.idle": "2022-12-18T12:51:30.037342Z",
     "shell.execute_reply": "2022-12-18T12:51:30.035969Z",
     "shell.execute_reply.started": "2022-12-18T12:51:29.801430Z"
    }
   },
   "outputs": [
    {
     "data": {
      "image/png": "[encoded data removed]",
      "text/plain": [
       "<Figure size 432x288 with 1 Axes>"
      ]
     },
     "metadata": {
      "needs_background": "light"
     },
     "output_type": "display_data"
    }
   ],
   "source": [
    "df[df[\"Contract\"] == \"One year\"][\"tenure\"].hist(bins=20)\n",
    "plt.xlabel(\"tenure\")\n",
    "plt.title(\"One year\")\n",
    "plt.show()"
   ]
  },
  {
   "cell_type": "markdown",
   "metadata": {},
   "source": [
    "Kategorik değişkenler ile hedef değişken incelemesini yapınız"
   ]
  },
  {
   "cell_type": "code",
   "execution_count": 27,
   "metadata": {
    "execution": {
     "iopub.execute_input": "2022-12-18T12:51:32.507765Z",
     "iopub.status.busy": "2022-12-18T12:51:32.506234Z",
     "iopub.status.idle": "2022-12-18T12:51:32.630606Z",
     "shell.execute_reply": "2022-12-18T12:51:32.629330Z",
     "shell.execute_reply.started": "2022-12-18T12:51:32.507714Z"
    }
   },
   "outputs": [
    {
     "name": "stdout",
     "output_type": "stream",
     "text": [
      "gender\n",
      "        TARGET_MEAN  Count  Ratio\n",
      "Female        0.269   3488 49.524\n",
      "Male          0.262   3555 50.476\n",
      "\n",
      "\n",
      "Partner\n",
      "     TARGET_MEAN  Count  Ratio\n",
      "No         0.330   3641 51.697\n",
      "Yes        0.197   3402 48.303\n",
      "\n",
      "\n",
      "Dependents\n",
      "     TARGET_MEAN  Count  Ratio\n",
      "No         0.313   4933 70.041\n",
      "Yes        0.155   2110 29.959\n",
      "\n",
      "\n",
      "PhoneService\n",
      "     TARGET_MEAN  Count  Ratio\n",
      "No         0.249    682  9.683\n",
      "Yes        0.267   6361 90.317\n",
      "\n",
      "\n",
      "MultipleLines\n",
      "                  TARGET_MEAN  Count  Ratio\n",
      "No                      0.250   3390 48.133\n",
      "No phone service        0.249    682  9.683\n",
      "Yes                     0.286   2971 42.184\n",
      "\n",
      "\n",
      "InternetService\n",
      "             TARGET_MEAN  Count  Ratio\n",
      "DSL                0.190   2421 34.375\n",
      "Fiber optic        0.419   3096 43.959\n",
      "No                 0.074   1526 21.667\n",
      "\n",
      "\n",
      "OnlineSecurity\n",
      "                     TARGET_MEAN  Count  Ratio\n",
      "No                         0.418   3498 49.666\n",
      "No internet service        0.074   1526 21.667\n",
      "Yes                        0.146   2019 28.667\n",
      "\n",
      "\n",
      "OnlineBackup\n",
      "                     TARGET_MEAN  Count  Ratio\n",
      "No                         0.399   3088 43.845\n",
      "No internet service        0.074   1526 21.667\n",
      "Yes                        0.215   2429 34.488\n",
      "\n",
      "\n",
      "DeviceProtection\n",
      "                     TARGET_MEAN  Count  Ratio\n",
      "No                         0.391   3095 43.944\n",
      "No internet service        0.074   1526 21.667\n",
      "Yes                        0.225   2422 34.389\n",
      "\n",
      "\n",
      "TechSupport\n",
      "                     TARGET_MEAN  Count  Ratio\n",
      "No                         0.416   3473 49.311\n",
      "No internet service        0.074   1526 21.667\n",
      "Yes                        0.152   2044 29.022\n",
      "\n",
      "\n",
      "StreamingTV\n",
      "                     TARGET_MEAN  Count  Ratio\n",
      "No                         0.335   2810 39.898\n",
      "No internet service        0.074   1526 21.667\n",
      "Yes                        0.301   2707 38.435\n",
      "\n",
      "\n",
      "StreamingMovies\n",
      "                     TARGET_MEAN  Count  Ratio\n",
      "No                         0.337   2785 39.543\n",
      "No internet service        0.074   1526 21.667\n",
      "Yes                        0.299   2732 38.790\n",
      "\n",
      "\n",
      "Contract\n",
      "                TARGET_MEAN  Count  Ratio\n",
      "Month-to-month        0.427   3875 55.019\n",
      "One year              0.113   1473 20.914\n",
      "Two year              0.028   1695 24.066\n",
      "\n",
      "\n",
      "PaperlessBilling\n",
      "     TARGET_MEAN  Count  Ratio\n",
      "No         0.163   2872 40.778\n",
      "Yes        0.336   4171 59.222\n",
      "\n",
      "\n",
      "PaymentMethod\n",
      "                           TARGET_MEAN  Count  Ratio\n",
      "Bank transfer (automatic)        0.167   1544 21.922\n",
      "Credit card (automatic)          0.152   1522 21.610\n",
      "Electronic check                 0.453   2365 33.579\n",
      "Mailed check                     0.191   1612 22.888\n",
      "\n",
      "\n",
      "Churn\n",
      "   TARGET_MEAN  Count  Ratio\n",
      "0            0   5174 73.463\n",
      "1            1   1869 26.537\n",
      "\n",
      "\n",
      "SeniorCitizen\n",
      "   TARGET_MEAN  Count  Ratio\n",
      "0        0.236   5901 83.785\n",
      "1        0.417   1142 16.215\n",
      "\n",
      "\n"
     ]
    }
   ],
   "source": [
    "def target_summary_with_cat(dataframe, target, categorical_col):\n",
    "    print(categorical_col)\n",
    "    print(pd.DataFrame({\"TARGET_MEAN\": dataframe.groupby(categorical_col)[target].mean(),\n",
    "                        \"Count\": dataframe[categorical_col].value_counts(),\n",
    "                        \"Ratio\": 100 * dataframe[categorical_col].value_counts() / len(dataframe)}), end=\"\\n\\n\\n\")\n",
    "\n",
    "for col in cat_cols:\n",
    "    target_summary_with_cat(df, \"Churn\", col)"
   ]
  },
  {
   "cell_type": "markdown",
   "metadata": {},
   "source": [
    "Numerik değişkenlerin hedef değişkene göre analizi"
   ]
  },
  {
   "cell_type": "code",
   "execution_count": 28,
   "metadata": {
    "execution": {
     "iopub.execute_input": "2022-12-18T12:51:44.184309Z",
     "iopub.status.busy": "2022-12-18T12:51:44.183919Z",
     "iopub.status.idle": "2022-12-18T12:51:44.202102Z",
     "shell.execute_reply": "2022-12-18T12:51:44.200705Z",
     "shell.execute_reply.started": "2022-12-18T12:51:44.184278Z"
    }
   },
   "outputs": [
    {
     "name": "stdout",
     "output_type": "stream",
     "text": [
      "       tenure\n",
      "Churn        \n",
      "0      37.570\n",
      "1      17.979\n",
      "\n",
      "\n",
      "       MonthlyCharges\n",
      "Churn                \n",
      "0              61.265\n",
      "1              74.441\n",
      "\n",
      "\n",
      "       TotalCharges\n",
      "Churn              \n",
      "0          2555.344\n",
      "1          1531.796\n",
      "\n",
      "\n"
     ]
    }
   ],
   "source": [
    "def target_summary_with_num(dataframe, target, numerical_col):\n",
    "    print(dataframe.groupby(target).agg({numerical_col: \"mean\"}), end=\"\\n\\n\\n\")\n",
    "\n",
    "for col in num_cols:\n",
    "    target_summary_with_num(df, \"Churn\", col)"
   ]
  },
  {
   "cell_type": "markdown",
   "metadata": {},
   "source": [
    "Aykırı gözlem analizi yapıyoruz."
   ]
  },
  {
   "cell_type": "code",
   "execution_count": 29,
   "metadata": {
    "execution": {
     "iopub.execute_input": "2022-12-18T12:52:21.989017Z",
     "iopub.status.busy": "2022-12-18T12:52:21.988582Z",
     "iopub.status.idle": "2022-12-18T12:52:21.999440Z",
     "shell.execute_reply": "2022-12-18T12:52:21.998197Z",
     "shell.execute_reply.started": "2022-12-18T12:52:21.988979Z"
    }
   },
   "outputs": [],
   "source": [
    "def outlier_thresholds(dataframe, col_name, q1=0.05, q3=0.95):\n",
    "    quartile1 = dataframe[col_name].quantile(q1)\n",
    "    quartile3 = dataframe[col_name].quantile(q3)\n",
    "    interquantile_range = quartile3 - quartile1\n",
    "    up_limit = quartile3 + 1.5 * interquantile_range\n",
    "    low_limit = quartile1 - 1.5 * interquantile_range\n",
    "    return low_limit, up_limit\n",
    "\n",
    "def check_outlier(dataframe, col_name):\n",
    "    low_limit, up_limit = outlier_thresholds(dataframe, col_name)\n",
    "    if dataframe[(dataframe[col_name] > up_limit) | (dataframe[col_name] < low_limit)].any(axis=None):\n",
    "        return True\n",
    "    else:\n",
    "        return False\n",
    "\n",
    "def replace_with_thresholds(dataframe, variable, q1=0.05, q3=0.95):\n",
    "    low_limit, up_limit = outlier_thresholds(dataframe, variable, q1=0.05, q3=0.95)\n",
    "    dataframe.loc[(dataframe[variable] < low_limit), variable] = low_limit\n",
    "    dataframe.loc[(dataframe[variable] > up_limit), variable] = up_limit\n"
   ]
  },
  {
   "cell_type": "code",
   "execution_count": 30,
   "metadata": {
    "execution": {
     "iopub.execute_input": "2022-12-18T12:52:31.756153Z",
     "iopub.status.busy": "2022-12-18T12:52:31.755740Z",
     "iopub.status.idle": "2022-12-18T12:52:31.780864Z",
     "shell.execute_reply": "2022-12-18T12:52:31.779589Z",
     "shell.execute_reply.started": "2022-12-18T12:52:31.756120Z"
    }
   },
   "outputs": [
    {
     "name": "stdout",
     "output_type": "stream",
     "text": [
      "tenure False\n",
      "MonthlyCharges False\n",
      "TotalCharges False\n"
     ]
    }
   ],
   "source": [
    "for col in num_cols:\n",
    "    print(col, check_outlier(df, col))"
   ]
  },
  {
   "cell_type": "markdown",
   "metadata": {},
   "source": [
    "Eksik gözlem analizi yapıyoruz."
   ]
  },
  {
   "cell_type": "code",
   "execution_count": 31,
   "metadata": {
    "execution": {
     "iopub.execute_input": "2022-12-18T12:54:03.328112Z",
     "iopub.status.busy": "2022-12-18T12:54:03.327623Z",
     "iopub.status.idle": "2022-12-18T12:54:03.347593Z",
     "shell.execute_reply": "2022-12-18T12:54:03.346082Z",
     "shell.execute_reply.started": "2022-12-18T12:54:03.328066Z"
    }
   },
   "outputs": [
    {
     "data": {
      "text/plain": [
       "TotalCharges        11\n",
       "customerID           0\n",
       "DeviceProtection     0\n",
       "MonthlyCharges       0\n",
       "PaymentMethod        0\n",
       "                    ..\n",
       "tenure               0\n",
       "Dependents           0\n",
       "Partner              0\n",
       "SeniorCitizen        0\n",
       "Churn                0\n",
       "Length: 21, dtype: int64"
      ]
     },
     "execution_count": 31,
     "metadata": {},
     "output_type": "execute_result"
    }
   ],
   "source": [
    "df.isnull().sum().sort_values(ascending=False)"
   ]
  },
  {
   "cell_type": "code",
   "execution_count": 32,
   "metadata": {
    "execution": {
     "iopub.execute_input": "2022-12-18T12:54:31.686119Z",
     "iopub.status.busy": "2022-12-18T12:54:31.685453Z",
     "iopub.status.idle": "2022-12-18T12:54:31.715361Z",
     "shell.execute_reply": "2022-12-18T12:54:31.714225Z",
     "shell.execute_reply.started": "2022-12-18T12:54:31.686070Z"
    }
   },
   "outputs": [],
   "source": [
    "# Fillna with mean values\n",
    "df.fillna(df[\"TotalCharges\"].mean())\n",
    "\n",
    "#Removing missing values\n",
    "df.dropna(inplace = True)"
   ]
  },
  {
   "cell_type": "code",
   "execution_count": 33,
   "metadata": {
    "execution": {
     "iopub.execute_input": "2022-12-18T12:54:41.217172Z",
     "iopub.status.busy": "2022-12-18T12:54:41.216748Z",
     "iopub.status.idle": "2022-12-18T12:54:41.236414Z",
     "shell.execute_reply": "2022-12-18T12:54:41.235148Z",
     "shell.execute_reply.started": "2022-12-18T12:54:41.217138Z"
    }
   },
   "outputs": [
    {
     "data": {
      "text/plain": [
       "customerID          0\n",
       "DeviceProtection    0\n",
       "TotalCharges        0\n",
       "MonthlyCharges      0\n",
       "PaymentMethod       0\n",
       "                   ..\n",
       "tenure              0\n",
       "Dependents          0\n",
       "Partner             0\n",
       "SeniorCitizen       0\n",
       "Churn               0\n",
       "Length: 21, dtype: int64"
      ]
     },
     "execution_count": 33,
     "metadata": {},
     "output_type": "execute_result"
    }
   ],
   "source": [
    "df.isnull().sum().sort_values(ascending=False)"
   ]
  },
  {
   "cell_type": "markdown",
   "metadata": {},
   "source": [
    "***Feature Engineering***"
   ]
  },
  {
   "cell_type": "code",
   "execution_count": 34,
   "metadata": {
    "execution": {
     "iopub.execute_input": "2022-12-18T12:56:09.060288Z",
     "iopub.status.busy": "2022-12-18T12:56:09.059864Z",
     "iopub.status.idle": "2022-12-18T12:56:09.085931Z",
     "shell.execute_reply": "2022-12-18T12:56:09.084716Z",
     "shell.execute_reply.started": "2022-12-18T12:56:09.060255Z"
    }
   },
   "outputs": [
    {
     "data": {
      "text/html": [
       "<div>\n",
       "<style scoped>\n",
       "    .dataframe tbody tr th:only-of-type {\n",
       "        vertical-align: middle;\n",
       "    }\n",
       "\n",
       "    .dataframe tbody tr th {\n",
       "        vertical-align: top;\n",
       "    }\n",
       "\n",
       "    .dataframe thead th {\n",
       "        text-align: right;\n",
       "    }\n",
       "</style>\n",
       "<table border=\"1\" class=\"dataframe\">\n",
       "  <thead>\n",
       "    <tr style=\"text-align: right;\">\n",
       "      <th></th>\n",
       "      <th>customerID</th>\n",
       "      <th>gender</th>\n",
       "      <th>SeniorCitizen</th>\n",
       "      <th>Partner</th>\n",
       "      <th>Dependents</th>\n",
       "      <th>tenure</th>\n",
       "      <th>PhoneService</th>\n",
       "      <th>MultipleLines</th>\n",
       "      <th>InternetService</th>\n",
       "      <th>OnlineSecurity</th>\n",
       "      <th>OnlineBackup</th>\n",
       "      <th>DeviceProtection</th>\n",
       "      <th>TechSupport</th>\n",
       "      <th>StreamingTV</th>\n",
       "      <th>StreamingMovies</th>\n",
       "      <th>Contract</th>\n",
       "      <th>PaperlessBilling</th>\n",
       "      <th>PaymentMethod</th>\n",
       "      <th>MonthlyCharges</th>\n",
       "      <th>TotalCharges</th>\n",
       "      <th>Churn</th>\n",
       "    </tr>\n",
       "  </thead>\n",
       "  <tbody>\n",
       "    <tr>\n",
       "      <th>0</th>\n",
       "      <td>7590-VHVEG</td>\n",
       "      <td>Female</td>\n",
       "      <td>0</td>\n",
       "      <td>Yes</td>\n",
       "      <td>No</td>\n",
       "      <td>1</td>\n",
       "      <td>No</td>\n",
       "      <td>No phone service</td>\n",
       "      <td>DSL</td>\n",
       "      <td>No</td>\n",
       "      <td>Yes</td>\n",
       "      <td>No</td>\n",
       "      <td>No</td>\n",
       "      <td>No</td>\n",
       "      <td>No</td>\n",
       "      <td>Month-to-month</td>\n",
       "      <td>Yes</td>\n",
       "      <td>Electronic check</td>\n",
       "      <td>29.850</td>\n",
       "      <td>29.850</td>\n",
       "      <td>0</td>\n",
       "    </tr>\n",
       "    <tr>\n",
       "      <th>1</th>\n",
       "      <td>5575-GNVDE</td>\n",
       "      <td>Male</td>\n",
       "      <td>0</td>\n",
       "      <td>No</td>\n",
       "      <td>No</td>\n",
       "      <td>34</td>\n",
       "      <td>Yes</td>\n",
       "      <td>No</td>\n",
       "      <td>DSL</td>\n",
       "      <td>Yes</td>\n",
       "      <td>No</td>\n",
       "      <td>Yes</td>\n",
       "      <td>No</td>\n",
       "      <td>No</td>\n",
       "      <td>No</td>\n",
       "      <td>One year</td>\n",
       "      <td>No</td>\n",
       "      <td>Mailed check</td>\n",
       "      <td>56.950</td>\n",
       "      <td>1889.500</td>\n",
       "      <td>0</td>\n",
       "    </tr>\n",
       "    <tr>\n",
       "      <th>2</th>\n",
       "      <td>3668-QPYBK</td>\n",
       "      <td>Male</td>\n",
       "      <td>0</td>\n",
       "      <td>No</td>\n",
       "      <td>No</td>\n",
       "      <td>2</td>\n",
       "      <td>Yes</td>\n",
       "      <td>No</td>\n",
       "      <td>DSL</td>\n",
       "      <td>Yes</td>\n",
       "      <td>Yes</td>\n",
       "      <td>No</td>\n",
       "      <td>No</td>\n",
       "      <td>No</td>\n",
       "      <td>No</td>\n",
       "      <td>Month-to-month</td>\n",
       "      <td>Yes</td>\n",
       "      <td>Mailed check</td>\n",
       "      <td>53.850</td>\n",
       "      <td>108.150</td>\n",
       "      <td>1</td>\n",
       "    </tr>\n",
       "    <tr>\n",
       "      <th>3</th>\n",
       "      <td>7795-CFOCW</td>\n",
       "      <td>Male</td>\n",
       "      <td>0</td>\n",
       "      <td>No</td>\n",
       "      <td>No</td>\n",
       "      <td>45</td>\n",
       "      <td>No</td>\n",
       "      <td>No phone service</td>\n",
       "      <td>DSL</td>\n",
       "      <td>Yes</td>\n",
       "      <td>No</td>\n",
       "      <td>Yes</td>\n",
       "      <td>Yes</td>\n",
       "      <td>No</td>\n",
       "      <td>No</td>\n",
       "      <td>One year</td>\n",
       "      <td>No</td>\n",
       "      <td>Bank transfer (automatic)</td>\n",
       "      <td>42.300</td>\n",
       "      <td>1840.750</td>\n",
       "      <td>0</td>\n",
       "    </tr>\n",
       "    <tr>\n",
       "      <th>4</th>\n",
       "      <td>9237-HQITU</td>\n",
       "      <td>Female</td>\n",
       "      <td>0</td>\n",
       "      <td>No</td>\n",
       "      <td>No</td>\n",
       "      <td>2</td>\n",
       "      <td>Yes</td>\n",
       "      <td>No</td>\n",
       "      <td>Fiber optic</td>\n",
       "      <td>No</td>\n",
       "      <td>No</td>\n",
       "      <td>No</td>\n",
       "      <td>No</td>\n",
       "      <td>No</td>\n",
       "      <td>No</td>\n",
       "      <td>Month-to-month</td>\n",
       "      <td>Yes</td>\n",
       "      <td>Electronic check</td>\n",
       "      <td>70.700</td>\n",
       "      <td>151.650</td>\n",
       "      <td>1</td>\n",
       "    </tr>\n",
       "  </tbody>\n",
       "</table>\n",
       "</div>"
      ],
      "text/plain": [
       "   customerID  gender  SeniorCitizen Partner Dependents  tenure PhoneService  \\\n",
       "0  7590-VHVEG  Female              0     Yes         No       1           No   \n",
       "1  5575-GNVDE    Male              0      No         No      34          Yes   \n",
       "2  3668-QPYBK    Male              0      No         No       2          Yes   \n",
       "3  7795-CFOCW    Male              0      No         No      45           No   \n",
       "4  9237-HQITU  Female              0      No         No       2          Yes   \n",
       "\n",
       "      MultipleLines InternetService OnlineSecurity OnlineBackup  \\\n",
       "0  No phone service             DSL             No          Yes   \n",
       "1                No             DSL            Yes           No   \n",
       "2                No             DSL            Yes          Yes   \n",
       "3  No phone service             DSL            Yes           No   \n",
       "4                No     Fiber optic             No           No   \n",
       "\n",
       "  DeviceProtection TechSupport StreamingTV StreamingMovies        Contract  \\\n",
       "0               No          No          No              No  Month-to-month   \n",
       "1              Yes          No          No              No        One year   \n",
       "2               No          No          No              No  Month-to-month   \n",
       "3              Yes         Yes          No              No        One year   \n",
       "4               No          No          No              No  Month-to-month   \n",
       "\n",
       "  PaperlessBilling              PaymentMethod  MonthlyCharges  TotalCharges  \\\n",
       "0              Yes           Electronic check          29.850        29.850   \n",
       "1               No               Mailed check          56.950      1889.500   \n",
       "2              Yes               Mailed check          53.850       108.150   \n",
       "3               No  Bank transfer (automatic)          42.300      1840.750   \n",
       "4              Yes           Electronic check          70.700       151.650   \n",
       "\n",
       "   Churn  \n",
       "0      0  \n",
       "1      0  \n",
       "2      1  \n",
       "3      0  \n",
       "4      1  "
      ]
     },
     "execution_count": 34,
     "metadata": {},
     "output_type": "execute_result"
    }
   ],
   "source": [
    "df.head()"
   ]
  },
  {
   "cell_type": "code",
   "execution_count": 35,
   "metadata": {
    "execution": {
     "iopub.execute_input": "2022-12-18T12:56:32.123718Z",
     "iopub.status.busy": "2022-12-18T12:56:32.123249Z",
     "iopub.status.idle": "2022-12-18T12:56:32.132610Z",
     "shell.execute_reply": "2022-12-18T12:56:32.131283Z",
     "shell.execute_reply.started": "2022-12-18T12:56:32.123681Z"
    }
   },
   "outputs": [],
   "source": [
    "#Since, we don't need customerID, We drop the column\n",
    "df = df.drop(['customerID'], axis = 1)"
   ]
  },
  {
   "cell_type": "code",
   "execution_count": 36,
   "metadata": {
    "execution": {
     "iopub.execute_input": "2022-12-18T12:56:47.525408Z",
     "iopub.status.busy": "2022-12-18T12:56:47.524931Z",
     "iopub.status.idle": "2022-12-18T12:56:47.760660Z",
     "shell.execute_reply": "2022-12-18T12:56:47.759680Z",
     "shell.execute_reply.started": "2022-12-18T12:56:47.525369Z"
    }
   },
   "outputs": [
    {
     "data": {
      "image/png": "[encoded data removed]",
      "text/plain": [
       "<Figure size 432x288 with 1 Axes>"
      ]
     },
     "metadata": {
      "needs_background": "light"
     },
     "output_type": "display_data"
    }
   ],
   "source": [
    "df[\"TotalCharges\"].hist(bins=20)\n",
    "plt.xlabel(\"TotalCharges\")\n",
    "plt.show()"
   ]
  },
  {
   "cell_type": "markdown",
   "metadata": {},
   "source": [
    "Yeni değişkenler oluşturunuz\n",
    "\n",
    "CustomerTime değişkeni\n",
    "\n",
    "Müşterilik süresi ve terk arasındaki ilişkinin grafiksel incelenmesi\n",
    "\n",
    "Grafiksel olarak incelediğimizde özellikle ilk 12 aydaki terkin daha fazla olduğu, müşterilik süresi arttıkça terk etme durumunun azaldığını yorumlayabiliriz. Bu grafiği incelememiz sonucunda müşterilik aylarını yıl gruplarına çevirerek yeni bir değişken oluşturacağız"
   ]
  },
  {
   "cell_type": "code",
   "execution_count": 37,
   "metadata": {
    "execution": {
     "iopub.execute_input": "2022-12-18T12:57:12.166049Z",
     "iopub.status.busy": "2022-12-18T12:57:12.165651Z",
     "iopub.status.idle": "2022-12-18T12:57:12.555665Z",
     "shell.execute_reply": "2022-12-18T12:57:12.554806Z",
     "shell.execute_reply.started": "2022-12-18T12:57:12.166019Z"
    }
   },
   "outputs": [
    {
     "data": {
      "image/png": "[encoded data removed]",
      "text/plain": [
       "<Figure size 432x288 with 1 Axes>"
      ]
     },
     "metadata": {
      "needs_background": "light"
     },
     "output_type": "display_data"
    }
   ],
   "source": [
    "bins = 50\n",
    "plt.hist(df[df['Churn'] == 1].tenure,\n",
    "         bins, alpha=0.5, density=True, label='Churned')\n",
    "plt.hist(df[df['Churn'] == 0].tenure,\n",
    "         bins, alpha=0.5, density=True, label=\"Didn't Churn\")\n",
    "plt.legend(loc='upper right')\n",
    "plt.show()"
   ]
  },
  {
   "cell_type": "code",
   "execution_count": 38,
   "metadata": {
    "execution": {
     "iopub.execute_input": "2022-12-18T12:57:23.846018Z",
     "iopub.status.busy": "2022-12-18T12:57:23.845635Z",
     "iopub.status.idle": "2022-12-18T12:57:23.862642Z",
     "shell.execute_reply": "2022-12-18T12:57:23.861373Z",
     "shell.execute_reply.started": "2022-12-18T12:57:23.845988Z"
    }
   },
   "outputs": [
    {
     "data": {
      "text/plain": [
       "4years     2618\n",
       "4years+    2239\n",
       "1year      2175\n",
       "Name: CustomerTime, dtype: int64"
      ]
     },
     "execution_count": 38,
     "metadata": {},
     "output_type": "execute_result"
    }
   ],
   "source": [
    "df.loc[(df['tenure'] <= 12), 'CustomerTime'] = '1year'\n",
    "df.loc[(df['tenure'] > 12) & (df['tenure'] <= 48), 'CustomerTime'] = '4years'\n",
    "df.loc[(df['tenure'] > 48), 'CustomerTime'] = '4years+'\n",
    "\n",
    "df['CustomerTime'].value_counts()"
   ]
  },
  {
   "cell_type": "markdown",
   "metadata": {
    "execution": {
     "iopub.execute_input": "2022-12-18T12:57:37.724342Z",
     "iopub.status.busy": "2022-12-18T12:57:37.723930Z",
     "iopub.status.idle": "2022-12-18T12:57:37.732377Z",
     "shell.execute_reply": "2022-12-18T12:57:37.730720Z",
     "shell.execute_reply.started": "2022-12-18T12:57:37.724312Z"
    }
   },
   "source": [
    "PaymentMethod_New değişkeni\n",
    "\n",
    "Ödeme yöntemlerinde ikisinin çek kullanımı ikisinin de banka ilişkili olmasından kaynaklı 4 grubu 2 ye indirdiğimiz bir değişken oluşturacağız"
   ]
  },
  {
   "cell_type": "code",
   "execution_count": 39,
   "metadata": {
    "execution": {
     "iopub.execute_input": "2022-12-18T12:57:53.736194Z",
     "iopub.status.busy": "2022-12-18T12:57:53.735800Z",
     "iopub.status.idle": "2022-12-18T12:57:53.755764Z",
     "shell.execute_reply": "2022-12-18T12:57:53.754280Z",
     "shell.execute_reply.started": "2022-12-18T12:57:53.736163Z"
    }
   },
   "outputs": [
    {
     "data": {
      "text/plain": [
       "Check    3969\n",
       "Bank     3063\n",
       "Name: PaymentMethod_New, dtype: int64"
      ]
     },
     "execution_count": 39,
     "metadata": {},
     "output_type": "execute_result"
    }
   ],
   "source": [
    "df.loc[(df['PaymentMethod'] == 'Bank transfer (automatic)') | (df['PaymentMethod'] == 'Credit card (automatic)'), 'PaymentMethod_New'] = 'Bank'\n",
    "df.loc[(df['PaymentMethod'] == 'Mailed check') | (df['PaymentMethod'] == 'Electronic check'), 'PaymentMethod_New'] = 'Check'\n",
    "\n",
    "df['PaymentMethod_New'].value_counts()"
   ]
  },
  {
   "cell_type": "code",
   "execution_count": 40,
   "metadata": {
    "execution": {
     "iopub.execute_input": "2022-12-18T12:58:01.997639Z",
     "iopub.status.busy": "2022-12-18T12:58:01.997197Z",
     "iopub.status.idle": "2022-12-18T12:58:02.009478Z",
     "shell.execute_reply": "2022-12-18T12:58:02.008200Z",
     "shell.execute_reply.started": "2022-12-18T12:58:01.997603Z"
    }
   },
   "outputs": [],
   "source": [
    "df.drop('PaymentMethod',axis=1,inplace=True)"
   ]
  },
  {
   "cell_type": "markdown",
   "metadata": {
    "execution": {
     "iopub.execute_input": "2022-12-18T12:58:09.924509Z",
     "iopub.status.busy": "2022-12-18T12:58:09.924031Z",
     "iopub.status.idle": "2022-12-18T12:58:09.932342Z",
     "shell.execute_reply": "2022-12-18T12:58:09.930411Z",
     "shell.execute_reply.started": "2022-12-18T12:58:09.924457Z"
    }
   },
   "source": [
    "LongTermContract değişkeni Kontratı 1 veya 2 yıllık müşterileri daha uzun döneme sahip olduğu için onları bir grup olarak aldığımız bir değişken oluşturalım"
   ]
  },
  {
   "cell_type": "code",
   "execution_count": 41,
   "metadata": {
    "execution": {
     "iopub.execute_input": "2022-12-18T12:58:21.099172Z",
     "iopub.status.busy": "2022-12-18T12:58:21.098745Z",
     "iopub.status.idle": "2022-12-18T12:58:21.114170Z",
     "shell.execute_reply": "2022-12-18T12:58:21.112935Z",
     "shell.execute_reply.started": "2022-12-18T12:58:21.099136Z"
    }
   },
   "outputs": [
    {
     "data": {
      "text/plain": [
       "0    3875\n",
       "1    3157\n",
       "Name: LongTermContract, dtype: int64"
      ]
     },
     "execution_count": 41,
     "metadata": {},
     "output_type": "execute_result"
    }
   ],
   "source": [
    "df[\"LongTermContract\"] = df[\"Contract\"].apply(lambda x: 1 if x in [\"One year\",\"Two year\"] else 0)\n",
    "df['LongTermContract'].value_counts()"
   ]
  },
  {
   "cell_type": "code",
   "execution_count": 42,
   "metadata": {
    "execution": {
     "iopub.execute_input": "2022-12-18T12:58:35.888141Z",
     "iopub.status.busy": "2022-12-18T12:58:35.887747Z",
     "iopub.status.idle": "2022-12-18T12:58:35.922900Z",
     "shell.execute_reply": "2022-12-18T12:58:35.921451Z",
     "shell.execute_reply.started": "2022-12-18T12:58:35.888111Z"
    }
   },
   "outputs": [],
   "source": [
    "df.drop('Contract',axis=1,inplace=True)"
   ]
  },
  {
   "cell_type": "markdown",
   "metadata": {},
   "source": [
    "MaxPackageInternet değişkeni\n",
    "\n",
    "Interneti varsa ve interneti olduktan sonra satın alabildiği diğer hizmetlerin de hepsine sahipse maximum paketi vardır diyebiliriz.\n",
    "\n",
    "InternetService OnlineSecurity OnlineBackup DeviceProtection TechSupport StreamingTV StreamingMovies"
   ]
  },
  {
   "cell_type": "code",
   "execution_count": 43,
   "metadata": {
    "execution": {
     "iopub.execute_input": "2022-12-18T12:58:51.680435Z",
     "iopub.status.busy": "2022-12-18T12:58:51.680044Z",
     "iopub.status.idle": "2022-12-18T12:58:51.690242Z",
     "shell.execute_reply": "2022-12-18T12:58:51.689258Z",
     "shell.execute_reply.started": "2022-12-18T12:58:51.680404Z"
    }
   },
   "outputs": [
    {
     "data": {
      "text/plain": [
       "Fiber optic    3096\n",
       "DSL            2416\n",
       "No             1520\n",
       "Name: InternetService, dtype: int64"
      ]
     },
     "execution_count": 43,
     "metadata": {},
     "output_type": "execute_result"
    }
   ],
   "source": [
    "df['InternetService'].value_counts()"
   ]
  },
  {
   "cell_type": "code",
   "execution_count": 44,
   "metadata": {
    "execution": {
     "iopub.execute_input": "2022-12-18T12:59:00.970968Z",
     "iopub.status.busy": "2022-12-18T12:59:00.970226Z",
     "iopub.status.idle": "2022-12-18T12:59:01.035012Z",
     "shell.execute_reply": "2022-12-18T12:59:01.033731Z",
     "shell.execute_reply.started": "2022-12-18T12:59:00.970899Z"
    }
   },
   "outputs": [
    {
     "data": {
      "text/plain": [
       "0    6748\n",
       "1     284\n",
       "Name: MaxPackageInternet, dtype: int64"
      ]
     },
     "execution_count": 44,
     "metadata": {},
     "output_type": "execute_result"
    }
   ],
   "source": [
    "df.loc[:, \"MaxPackageInternet\"] = np.where((df[\"InternetService\"] != 'No') & (df[\"OnlineSecurity\"] == 'Yes')\n",
    "                                               & (df[\"OnlineBackup\"] == 'Yes') & (df[\"DeviceProtection\"] == 'Yes')\n",
    "                                               & (df[\"TechSupport\"] == 'Yes') & (df[\"StreamingTV\"] == 'Yes') & (df[\"StreamingMovies\"] == 'Yes'), '1','0')\n",
    "\n",
    "df['MaxPackageInternet'].value_counts()"
   ]
  },
  {
   "cell_type": "markdown",
   "metadata": {},
   "source": [
    "noSup değişkeni\n",
    "\n",
    "Yan hizmetlerimizden müşteriye destek amaçlı sağladığımız ürünlerin alınıp alınmadığını gösteren değişken oluşturalım"
   ]
  },
  {
   "cell_type": "code",
   "execution_count": 45,
   "metadata": {
    "execution": {
     "iopub.execute_input": "2022-12-18T12:59:20.759431Z",
     "iopub.status.busy": "2022-12-18T12:59:20.758984Z",
     "iopub.status.idle": "2022-12-18T12:59:20.869099Z",
     "shell.execute_reply": "2022-12-18T12:59:20.868161Z",
     "shell.execute_reply.started": "2022-12-18T12:59:20.759396Z"
    }
   },
   "outputs": [
    {
     "data": {
      "text/plain": [
       "1    6308\n",
       "0     724\n",
       "Name: noSup, dtype: int64"
      ]
     },
     "execution_count": 45,
     "metadata": {},
     "output_type": "execute_result"
    }
   ],
   "source": [
    "df[\"noSup\"] = df.apply(lambda x: 1 if (x[\"OnlineBackup\"] != \"Yes\") or (x[\"DeviceProtection\"] != \"Yes\") or (x[\"TechSupport\"] != \"Yes\") else 0, axis=1)\n",
    "df['noSup'].value_counts()"
   ]
  },
  {
   "cell_type": "markdown",
   "metadata": {},
   "source": [
    "TotalServices değişkeni\n",
    "\n",
    "Kişinin toplam aldığı servis sayısıı gösteren değişkeni oluşturabiliriz."
   ]
  },
  {
   "cell_type": "code",
   "execution_count": 46,
   "metadata": {
    "execution": {
     "iopub.execute_input": "2022-12-18T12:59:39.662593Z",
     "iopub.status.busy": "2022-12-18T12:59:39.662035Z",
     "iopub.status.idle": "2022-12-18T12:59:39.694147Z",
     "shell.execute_reply": "2022-12-18T12:59:39.691601Z",
     "shell.execute_reply.started": "2022-12-18T12:59:39.662542Z"
    }
   },
   "outputs": [
    {
     "data": {
      "text/plain": [
       "1    2247\n",
       "4    1060\n",
       "3    1041\n",
       "2     996\n",
       "5     825\n",
       "6     524\n",
       "7     259\n",
       "0      80\n",
       "Name: TotalServices, dtype: int64"
      ]
     },
     "execution_count": 46,
     "metadata": {},
     "output_type": "execute_result"
    }
   ],
   "source": [
    "df['TotalServices'] = (df[['PhoneService', 'InternetService', 'OnlineSecurity',\n",
    "                                       'OnlineBackup', 'DeviceProtection', 'TechSupport',\n",
    "                                       'StreamingTV', 'StreamingMovies']]== 'Yes').sum(axis=1)\n",
    "\n",
    "df['TotalServices'].value_counts()"
   ]
  },
  {
   "cell_type": "markdown",
   "metadata": {},
   "source": [
    "AvgPerMonth değişkeni\n",
    "\n",
    "Müşterilerin ortalama aylık ne kadarlık ödeme yapmış olduğunu gösteren bir değişken oluşturabiliriz."
   ]
  },
  {
   "cell_type": "code",
   "execution_count": 47,
   "metadata": {
    "execution": {
     "iopub.execute_input": "2022-12-18T12:59:56.547781Z",
     "iopub.status.busy": "2022-12-18T12:59:56.547066Z",
     "iopub.status.idle": "2022-12-18T12:59:56.555492Z",
     "shell.execute_reply": "2022-12-18T12:59:56.553873Z",
     "shell.execute_reply.started": "2022-12-18T12:59:56.547743Z"
    }
   },
   "outputs": [],
   "source": [
    "df[\"AvgPerMonth\"] = df[\"TotalCharges\"] / (df[\"tenure\"] + 1)"
   ]
  },
  {
   "cell_type": "markdown",
   "metadata": {},
   "source": [
    "CurrentIncrease değişkeni\n",
    "\n",
    "Güncel Fiyatın ortalama fiyata göre ne kadar daha fazla olduğunu görmek için bir değişken oluşturabiliriz."
   ]
  },
  {
   "cell_type": "code",
   "execution_count": 48,
   "metadata": {
    "execution": {
     "iopub.execute_input": "2022-12-18T13:00:17.851427Z",
     "iopub.status.busy": "2022-12-18T13:00:17.851016Z",
     "iopub.status.idle": "2022-12-18T13:00:17.859063Z",
     "shell.execute_reply": "2022-12-18T13:00:17.857514Z",
     "shell.execute_reply.started": "2022-12-18T13:00:17.851396Z"
    }
   },
   "outputs": [],
   "source": [
    "df[\"CurrentIncrease\"] = df[\"AvgPerMonth\"] / df[\"MonthlyCharges\"]"
   ]
  },
  {
   "cell_type": "markdown",
   "metadata": {},
   "source": [
    "StreamingService değişkeni\n",
    "\n",
    "Yayın ve film akışı olup olmadığını gösteren değişkenlerden herhangi bir akışı olup olmaıdğını gösteren değişken oluşturabiliriz"
   ]
  },
  {
   "cell_type": "code",
   "execution_count": 49,
   "metadata": {
    "execution": {
     "iopub.execute_input": "2022-12-18T13:00:35.385568Z",
     "iopub.status.busy": "2022-12-18T13:00:35.385132Z",
     "iopub.status.idle": "2022-12-18T13:00:35.501118Z",
     "shell.execute_reply": "2022-12-18T13:00:35.500078Z",
     "shell.execute_reply.started": "2022-12-18T13:00:35.385532Z"
    }
   },
   "outputs": [
    {
     "data": {
      "text/plain": [
       "0    3537\n",
       "1    3495\n",
       "Name: StreamingService, dtype: int64"
      ]
     },
     "execution_count": 49,
     "metadata": {},
     "output_type": "execute_result"
    }
   ],
   "source": [
    "df[\"StreamingService\"] = df.apply(lambda x: 1 if (x[\"StreamingTV\"] == \"Yes\") or (x[\"StreamingMovies\"] == \"Yes\") else 0, axis=1)\n",
    "df['StreamingService'].value_counts()"
   ]
  },
  {
   "cell_type": "code",
   "execution_count": 50,
   "metadata": {
    "execution": {
     "iopub.execute_input": "2022-12-18T13:00:45.596570Z",
     "iopub.status.busy": "2022-12-18T13:00:45.596132Z",
     "iopub.status.idle": "2022-12-18T13:00:45.623968Z",
     "shell.execute_reply": "2022-12-18T13:00:45.621545Z",
     "shell.execute_reply.started": "2022-12-18T13:00:45.596530Z"
    }
   },
   "outputs": [
    {
     "data": {
      "text/html": [
       "<div>\n",
       "<style scoped>\n",
       "    .dataframe tbody tr th:only-of-type {\n",
       "        vertical-align: middle;\n",
       "    }\n",
       "\n",
       "    .dataframe tbody tr th {\n",
       "        vertical-align: top;\n",
       "    }\n",
       "\n",
       "    .dataframe thead th {\n",
       "        text-align: right;\n",
       "    }\n",
       "</style>\n",
       "<table border=\"1\" class=\"dataframe\">\n",
       "  <thead>\n",
       "    <tr style=\"text-align: right;\">\n",
       "      <th></th>\n",
       "      <th>gender</th>\n",
       "      <th>SeniorCitizen</th>\n",
       "      <th>Partner</th>\n",
       "      <th>Dependents</th>\n",
       "      <th>tenure</th>\n",
       "      <th>PhoneService</th>\n",
       "      <th>MultipleLines</th>\n",
       "      <th>InternetService</th>\n",
       "      <th>OnlineSecurity</th>\n",
       "      <th>OnlineBackup</th>\n",
       "      <th>DeviceProtection</th>\n",
       "      <th>TechSupport</th>\n",
       "      <th>StreamingTV</th>\n",
       "      <th>StreamingMovies</th>\n",
       "      <th>PaperlessBilling</th>\n",
       "      <th>MonthlyCharges</th>\n",
       "      <th>TotalCharges</th>\n",
       "      <th>Churn</th>\n",
       "      <th>CustomerTime</th>\n",
       "      <th>PaymentMethod_New</th>\n",
       "      <th>LongTermContract</th>\n",
       "      <th>MaxPackageInternet</th>\n",
       "      <th>noSup</th>\n",
       "      <th>TotalServices</th>\n",
       "      <th>AvgPerMonth</th>\n",
       "      <th>CurrentIncrease</th>\n",
       "      <th>StreamingService</th>\n",
       "    </tr>\n",
       "  </thead>\n",
       "  <tbody>\n",
       "    <tr>\n",
       "      <th>0</th>\n",
       "      <td>Female</td>\n",
       "      <td>0</td>\n",
       "      <td>Yes</td>\n",
       "      <td>No</td>\n",
       "      <td>1</td>\n",
       "      <td>No</td>\n",
       "      <td>No phone service</td>\n",
       "      <td>DSL</td>\n",
       "      <td>No</td>\n",
       "      <td>Yes</td>\n",
       "      <td>No</td>\n",
       "      <td>No</td>\n",
       "      <td>No</td>\n",
       "      <td>No</td>\n",
       "      <td>Yes</td>\n",
       "      <td>29.850</td>\n",
       "      <td>29.850</td>\n",
       "      <td>0</td>\n",
       "      <td>1year</td>\n",
       "      <td>Check</td>\n",
       "      <td>0</td>\n",
       "      <td>0</td>\n",
       "      <td>1</td>\n",
       "      <td>1</td>\n",
       "      <td>14.925</td>\n",
       "      <td>0.500</td>\n",
       "      <td>0</td>\n",
       "    </tr>\n",
       "    <tr>\n",
       "      <th>1</th>\n",
       "      <td>Male</td>\n",
       "      <td>0</td>\n",
       "      <td>No</td>\n",
       "      <td>No</td>\n",
       "      <td>34</td>\n",
       "      <td>Yes</td>\n",
       "      <td>No</td>\n",
       "      <td>DSL</td>\n",
       "      <td>Yes</td>\n",
       "      <td>No</td>\n",
       "      <td>Yes</td>\n",
       "      <td>No</td>\n",
       "      <td>No</td>\n",
       "      <td>No</td>\n",
       "      <td>No</td>\n",
       "      <td>56.950</td>\n",
       "      <td>1889.500</td>\n",
       "      <td>0</td>\n",
       "      <td>4years</td>\n",
       "      <td>Check</td>\n",
       "      <td>1</td>\n",
       "      <td>0</td>\n",
       "      <td>1</td>\n",
       "      <td>3</td>\n",
       "      <td>53.986</td>\n",
       "      <td>0.948</td>\n",
       "      <td>0</td>\n",
       "    </tr>\n",
       "    <tr>\n",
       "      <th>2</th>\n",
       "      <td>Male</td>\n",
       "      <td>0</td>\n",
       "      <td>No</td>\n",
       "      <td>No</td>\n",
       "      <td>2</td>\n",
       "      <td>Yes</td>\n",
       "      <td>No</td>\n",
       "      <td>DSL</td>\n",
       "      <td>Yes</td>\n",
       "      <td>Yes</td>\n",
       "      <td>No</td>\n",
       "      <td>No</td>\n",
       "      <td>No</td>\n",
       "      <td>No</td>\n",
       "      <td>Yes</td>\n",
       "      <td>53.850</td>\n",
       "      <td>108.150</td>\n",
       "      <td>1</td>\n",
       "      <td>1year</td>\n",
       "      <td>Check</td>\n",
       "      <td>0</td>\n",
       "      <td>0</td>\n",
       "      <td>1</td>\n",
       "      <td>3</td>\n",
       "      <td>36.050</td>\n",
       "      <td>0.669</td>\n",
       "      <td>0</td>\n",
       "    </tr>\n",
       "    <tr>\n",
       "      <th>3</th>\n",
       "      <td>Male</td>\n",
       "      <td>0</td>\n",
       "      <td>No</td>\n",
       "      <td>No</td>\n",
       "      <td>45</td>\n",
       "      <td>No</td>\n",
       "      <td>No phone service</td>\n",
       "      <td>DSL</td>\n",
       "      <td>Yes</td>\n",
       "      <td>No</td>\n",
       "      <td>Yes</td>\n",
       "      <td>Yes</td>\n",
       "      <td>No</td>\n",
       "      <td>No</td>\n",
       "      <td>No</td>\n",
       "      <td>42.300</td>\n",
       "      <td>1840.750</td>\n",
       "      <td>0</td>\n",
       "      <td>4years</td>\n",
       "      <td>Bank</td>\n",
       "      <td>1</td>\n",
       "      <td>0</td>\n",
       "      <td>1</td>\n",
       "      <td>3</td>\n",
       "      <td>40.016</td>\n",
       "      <td>0.946</td>\n",
       "      <td>0</td>\n",
       "    </tr>\n",
       "    <tr>\n",
       "      <th>4</th>\n",
       "      <td>Female</td>\n",
       "      <td>0</td>\n",
       "      <td>No</td>\n",
       "      <td>No</td>\n",
       "      <td>2</td>\n",
       "      <td>Yes</td>\n",
       "      <td>No</td>\n",
       "      <td>Fiber optic</td>\n",
       "      <td>No</td>\n",
       "      <td>No</td>\n",
       "      <td>No</td>\n",
       "      <td>No</td>\n",
       "      <td>No</td>\n",
       "      <td>No</td>\n",
       "      <td>Yes</td>\n",
       "      <td>70.700</td>\n",
       "      <td>151.650</td>\n",
       "      <td>1</td>\n",
       "      <td>1year</td>\n",
       "      <td>Check</td>\n",
       "      <td>0</td>\n",
       "      <td>0</td>\n",
       "      <td>1</td>\n",
       "      <td>1</td>\n",
       "      <td>50.550</td>\n",
       "      <td>0.715</td>\n",
       "      <td>0</td>\n",
       "    </tr>\n",
       "  </tbody>\n",
       "</table>\n",
       "</div>"
      ],
      "text/plain": [
       "   gender  SeniorCitizen Partner Dependents  tenure PhoneService  \\\n",
       "0  Female              0     Yes         No       1           No   \n",
       "1    Male              0      No         No      34          Yes   \n",
       "2    Male              0      No         No       2          Yes   \n",
       "3    Male              0      No         No      45           No   \n",
       "4  Female              0      No         No       2          Yes   \n",
       "\n",
       "      MultipleLines InternetService OnlineSecurity OnlineBackup  \\\n",
       "0  No phone service             DSL             No          Yes   \n",
       "1                No             DSL            Yes           No   \n",
       "2                No             DSL            Yes          Yes   \n",
       "3  No phone service             DSL            Yes           No   \n",
       "4                No     Fiber optic             No           No   \n",
       "\n",
       "  DeviceProtection TechSupport StreamingTV StreamingMovies PaperlessBilling  \\\n",
       "0               No          No          No              No              Yes   \n",
       "1              Yes          No          No              No               No   \n",
       "2               No          No          No              No              Yes   \n",
       "3              Yes         Yes          No              No               No   \n",
       "4               No          No          No              No              Yes   \n",
       "\n",
       "   MonthlyCharges  TotalCharges  Churn CustomerTime PaymentMethod_New  \\\n",
       "0          29.850        29.850      0        1year             Check   \n",
       "1          56.950      1889.500      0       4years             Check   \n",
       "2          53.850       108.150      1        1year             Check   \n",
       "3          42.300      1840.750      0       4years              Bank   \n",
       "4          70.700       151.650      1        1year             Check   \n",
       "\n",
       "   LongTermContract MaxPackageInternet  noSup  TotalServices  AvgPerMonth  \\\n",
       "0                 0                  0      1              1       14.925   \n",
       "1                 1                  0      1              3       53.986   \n",
       "2                 0                  0      1              3       36.050   \n",
       "3                 1                  0      1              3       40.016   \n",
       "4                 0                  0      1              1       50.550   \n",
       "\n",
       "   CurrentIncrease  StreamingService  \n",
       "0            0.500                 0  \n",
       "1            0.948                 0  \n",
       "2            0.669                 0  \n",
       "3            0.946                 0  \n",
       "4            0.715                 0  "
      ]
     },
     "execution_count": 50,
     "metadata": {},
     "output_type": "execute_result"
    }
   ],
   "source": [
    "df.head()"
   ]
  },
  {
   "cell_type": "code",
   "execution_count": 51,
   "metadata": {
    "execution": {
     "iopub.execute_input": "2022-12-18T13:01:06.115330Z",
     "iopub.status.busy": "2022-12-18T13:01:06.114902Z",
     "iopub.status.idle": "2022-12-18T13:01:06.150364Z",
     "shell.execute_reply": "2022-12-18T13:01:06.148965Z",
     "shell.execute_reply.started": "2022-12-18T13:01:06.115299Z"
    }
   },
   "outputs": [
    {
     "name": "stdout",
     "output_type": "stream",
     "text": [
      "Observations: 7032\n",
      "Variables: 27\n",
      "cat_cols: 22\n",
      "num_cols: 5\n",
      "cat_but_car: 0\n",
      "num_but_cat: 6\n"
     ]
    }
   ],
   "source": [
    "cat_cols, num_cols, cat_but_car = grab_col_names(df)"
   ]
  },
  {
   "cell_type": "markdown",
   "metadata": {},
   "source": [
    "Encoding işlemlerini gerçekleştiriniz.\n",
    "\n",
    "Label Encoding"
   ]
  },
  {
   "cell_type": "code",
   "execution_count": 52,
   "metadata": {
    "execution": {
     "iopub.execute_input": "2022-12-18T13:01:20.547365Z",
     "iopub.status.busy": "2022-12-18T13:01:20.546041Z",
     "iopub.status.idle": "2022-12-18T13:01:20.574326Z",
     "shell.execute_reply": "2022-12-18T13:01:20.573015Z",
     "shell.execute_reply.started": "2022-12-18T13:01:20.547309Z"
    }
   },
   "outputs": [
    {
     "data": {
      "text/plain": [
       "['gender',\n",
       " 'Partner',\n",
       " 'Dependents',\n",
       " 'PhoneService',\n",
       " 'PaperlessBilling',\n",
       " 'PaymentMethod_New',\n",
       " 'MaxPackageInternet']"
      ]
     },
     "execution_count": 52,
     "metadata": {},
     "output_type": "execute_result"
    }
   ],
   "source": [
    "def label_encoder(dataframe, binary_col):\n",
    "    labelencoder = LabelEncoder()\n",
    "    dataframe[binary_col] = labelencoder.fit_transform(dataframe[binary_col])\n",
    "    return dataframe\n",
    "\n",
    "binary_cols = [col for col in df.columns if df[col].dtypes == \"O\" and df[col].nunique() == 2]\n",
    "binary_cols"
   ]
  },
  {
   "cell_type": "code",
   "execution_count": 53,
   "metadata": {
    "execution": {
     "iopub.execute_input": "2022-12-18T13:01:27.986814Z",
     "iopub.status.busy": "2022-12-18T13:01:27.985539Z",
     "iopub.status.idle": "2022-12-18T13:01:28.013041Z",
     "shell.execute_reply": "2022-12-18T13:01:28.012073Z",
     "shell.execute_reply.started": "2022-12-18T13:01:27.986768Z"
    }
   },
   "outputs": [],
   "source": [
    "for col in binary_cols:\n",
    "    df = label_encoder(df, col)"
   ]
  },
  {
   "cell_type": "markdown",
   "metadata": {},
   "source": [
    "One Hot Encoding"
   ]
  },
  {
   "cell_type": "code",
   "execution_count": 54,
   "metadata": {
    "execution": {
     "iopub.execute_input": "2022-12-18T13:01:40.356760Z",
     "iopub.status.busy": "2022-12-18T13:01:40.356276Z",
     "iopub.status.idle": "2022-12-18T13:01:40.365237Z",
     "shell.execute_reply": "2022-12-18T13:01:40.363857Z",
     "shell.execute_reply.started": "2022-12-18T13:01:40.356722Z"
    }
   },
   "outputs": [
    {
     "data": {
      "text/plain": [
       "['gender',\n",
       " 'Partner',\n",
       " 'Dependents',\n",
       " 'PhoneService',\n",
       " 'MultipleLines',\n",
       " 'InternetService',\n",
       " 'OnlineSecurity',\n",
       " 'OnlineBackup',\n",
       " 'DeviceProtection',\n",
       " 'TechSupport',\n",
       " 'StreamingTV',\n",
       " 'StreamingMovies',\n",
       " 'PaperlessBilling',\n",
       " 'CustomerTime',\n",
       " 'PaymentMethod_New',\n",
       " 'MaxPackageInternet',\n",
       " 'SeniorCitizen',\n",
       " 'Churn',\n",
       " 'LongTermContract',\n",
       " 'noSup',\n",
       " 'TotalServices',\n",
       " 'StreamingService']"
      ]
     },
     "execution_count": 54,
     "metadata": {},
     "output_type": "execute_result"
    }
   ],
   "source": [
    "cat_cols"
   ]
  },
  {
   "cell_type": "markdown",
   "metadata": {},
   "source": [
    "Hedef değişkenimiz ve aslında grubu değil servis sayısını ifade eden TotalServices değişkenimizi dışarıda tutuyoruz"
   ]
  },
  {
   "cell_type": "code",
   "execution_count": 55,
   "metadata": {
    "execution": {
     "iopub.execute_input": "2022-12-18T13:01:59.917652Z",
     "iopub.status.busy": "2022-12-18T13:01:59.917119Z",
     "iopub.status.idle": "2022-12-18T13:01:59.970468Z",
     "shell.execute_reply": "2022-12-18T13:01:59.969209Z",
     "shell.execute_reply.started": "2022-12-18T13:01:59.917597Z"
    }
   },
   "outputs": [
    {
     "data": {
      "text/html": [
       "<div>\n",
       "<style scoped>\n",
       "    .dataframe tbody tr th:only-of-type {\n",
       "        vertical-align: middle;\n",
       "    }\n",
       "\n",
       "    .dataframe tbody tr th {\n",
       "        vertical-align: top;\n",
       "    }\n",
       "\n",
       "    .dataframe thead th {\n",
       "        text-align: right;\n",
       "    }\n",
       "</style>\n",
       "<table border=\"1\" class=\"dataframe\">\n",
       "  <thead>\n",
       "    <tr style=\"text-align: right;\">\n",
       "      <th></th>\n",
       "      <th>gender</th>\n",
       "      <th>Partner</th>\n",
       "      <th>Dependents</th>\n",
       "      <th>tenure</th>\n",
       "      <th>PhoneService</th>\n",
       "      <th>PaperlessBilling</th>\n",
       "      <th>MonthlyCharges</th>\n",
       "      <th>TotalCharges</th>\n",
       "      <th>Churn</th>\n",
       "      <th>PaymentMethod_New</th>\n",
       "      <th>MaxPackageInternet</th>\n",
       "      <th>TotalServices</th>\n",
       "      <th>AvgPerMonth</th>\n",
       "      <th>CurrentIncrease</th>\n",
       "      <th>MultipleLines_No phone service</th>\n",
       "      <th>MultipleLines_Yes</th>\n",
       "      <th>InternetService_Fiber optic</th>\n",
       "      <th>InternetService_No</th>\n",
       "      <th>OnlineSecurity_No internet service</th>\n",
       "      <th>OnlineSecurity_Yes</th>\n",
       "      <th>OnlineBackup_No internet service</th>\n",
       "      <th>OnlineBackup_Yes</th>\n",
       "      <th>DeviceProtection_No internet service</th>\n",
       "      <th>DeviceProtection_Yes</th>\n",
       "      <th>TechSupport_No internet service</th>\n",
       "      <th>TechSupport_Yes</th>\n",
       "      <th>StreamingTV_No internet service</th>\n",
       "      <th>StreamingTV_Yes</th>\n",
       "      <th>StreamingMovies_No internet service</th>\n",
       "      <th>StreamingMovies_Yes</th>\n",
       "      <th>CustomerTime_4years</th>\n",
       "      <th>CustomerTime_4years+</th>\n",
       "      <th>SeniorCitizen_1</th>\n",
       "      <th>LongTermContract_1</th>\n",
       "      <th>noSup_1</th>\n",
       "      <th>StreamingService_1</th>\n",
       "    </tr>\n",
       "  </thead>\n",
       "  <tbody>\n",
       "    <tr>\n",
       "      <th>0</th>\n",
       "      <td>0</td>\n",
       "      <td>1</td>\n",
       "      <td>0</td>\n",
       "      <td>1</td>\n",
       "      <td>0</td>\n",
       "      <td>1</td>\n",
       "      <td>29.850</td>\n",
       "      <td>29.850</td>\n",
       "      <td>0</td>\n",
       "      <td>1</td>\n",
       "      <td>0</td>\n",
       "      <td>1</td>\n",
       "      <td>14.925</td>\n",
       "      <td>0.500</td>\n",
       "      <td>1</td>\n",
       "      <td>0</td>\n",
       "      <td>0</td>\n",
       "      <td>0</td>\n",
       "      <td>0</td>\n",
       "      <td>0</td>\n",
       "      <td>0</td>\n",
       "      <td>1</td>\n",
       "      <td>0</td>\n",
       "      <td>0</td>\n",
       "      <td>0</td>\n",
       "      <td>0</td>\n",
       "      <td>0</td>\n",
       "      <td>0</td>\n",
       "      <td>0</td>\n",
       "      <td>0</td>\n",
       "      <td>0</td>\n",
       "      <td>0</td>\n",
       "      <td>0</td>\n",
       "      <td>0</td>\n",
       "      <td>1</td>\n",
       "      <td>0</td>\n",
       "    </tr>\n",
       "    <tr>\n",
       "      <th>1</th>\n",
       "      <td>1</td>\n",
       "      <td>0</td>\n",
       "      <td>0</td>\n",
       "      <td>34</td>\n",
       "      <td>1</td>\n",
       "      <td>0</td>\n",
       "      <td>56.950</td>\n",
       "      <td>1889.500</td>\n",
       "      <td>0</td>\n",
       "      <td>1</td>\n",
       "      <td>0</td>\n",
       "      <td>3</td>\n",
       "      <td>53.986</td>\n",
       "      <td>0.948</td>\n",
       "      <td>0</td>\n",
       "      <td>0</td>\n",
       "      <td>0</td>\n",
       "      <td>0</td>\n",
       "      <td>0</td>\n",
       "      <td>1</td>\n",
       "      <td>0</td>\n",
       "      <td>0</td>\n",
       "      <td>0</td>\n",
       "      <td>1</td>\n",
       "      <td>0</td>\n",
       "      <td>0</td>\n",
       "      <td>0</td>\n",
       "      <td>0</td>\n",
       "      <td>0</td>\n",
       "      <td>0</td>\n",
       "      <td>1</td>\n",
       "      <td>0</td>\n",
       "      <td>0</td>\n",
       "      <td>1</td>\n",
       "      <td>1</td>\n",
       "      <td>0</td>\n",
       "    </tr>\n",
       "    <tr>\n",
       "      <th>2</th>\n",
       "      <td>1</td>\n",
       "      <td>0</td>\n",
       "      <td>0</td>\n",
       "      <td>2</td>\n",
       "      <td>1</td>\n",
       "      <td>1</td>\n",
       "      <td>53.850</td>\n",
       "      <td>108.150</td>\n",
       "      <td>1</td>\n",
       "      <td>1</td>\n",
       "      <td>0</td>\n",
       "      <td>3</td>\n",
       "      <td>36.050</td>\n",
       "      <td>0.669</td>\n",
       "      <td>0</td>\n",
       "      <td>0</td>\n",
       "      <td>0</td>\n",
       "      <td>0</td>\n",
       "      <td>0</td>\n",
       "      <td>1</td>\n",
       "      <td>0</td>\n",
       "      <td>1</td>\n",
       "      <td>0</td>\n",
       "      <td>0</td>\n",
       "      <td>0</td>\n",
       "      <td>0</td>\n",
       "      <td>0</td>\n",
       "      <td>0</td>\n",
       "      <td>0</td>\n",
       "      <td>0</td>\n",
       "      <td>0</td>\n",
       "      <td>0</td>\n",
       "      <td>0</td>\n",
       "      <td>0</td>\n",
       "      <td>1</td>\n",
       "      <td>0</td>\n",
       "    </tr>\n",
       "    <tr>\n",
       "      <th>3</th>\n",
       "      <td>1</td>\n",
       "      <td>0</td>\n",
       "      <td>0</td>\n",
       "      <td>45</td>\n",
       "      <td>0</td>\n",
       "      <td>0</td>\n",
       "      <td>42.300</td>\n",
       "      <td>1840.750</td>\n",
       "      <td>0</td>\n",
       "      <td>0</td>\n",
       "      <td>0</td>\n",
       "      <td>3</td>\n",
       "      <td>40.016</td>\n",
       "      <td>0.946</td>\n",
       "      <td>1</td>\n",
       "      <td>0</td>\n",
       "      <td>0</td>\n",
       "      <td>0</td>\n",
       "      <td>0</td>\n",
       "      <td>1</td>\n",
       "      <td>0</td>\n",
       "      <td>0</td>\n",
       "      <td>0</td>\n",
       "      <td>1</td>\n",
       "      <td>0</td>\n",
       "      <td>1</td>\n",
       "      <td>0</td>\n",
       "      <td>0</td>\n",
       "      <td>0</td>\n",
       "      <td>0</td>\n",
       "      <td>1</td>\n",
       "      <td>0</td>\n",
       "      <td>0</td>\n",
       "      <td>1</td>\n",
       "      <td>1</td>\n",
       "      <td>0</td>\n",
       "    </tr>\n",
       "    <tr>\n",
       "      <th>4</th>\n",
       "      <td>0</td>\n",
       "      <td>0</td>\n",
       "      <td>0</td>\n",
       "      <td>2</td>\n",
       "      <td>1</td>\n",
       "      <td>1</td>\n",
       "      <td>70.700</td>\n",
       "      <td>151.650</td>\n",
       "      <td>1</td>\n",
       "      <td>1</td>\n",
       "      <td>0</td>\n",
       "      <td>1</td>\n",
       "      <td>50.550</td>\n",
       "      <td>0.715</td>\n",
       "      <td>0</td>\n",
       "      <td>0</td>\n",
       "      <td>1</td>\n",
       "      <td>0</td>\n",
       "      <td>0</td>\n",
       "      <td>0</td>\n",
       "      <td>0</td>\n",
       "      <td>0</td>\n",
       "      <td>0</td>\n",
       "      <td>0</td>\n",
       "      <td>0</td>\n",
       "      <td>0</td>\n",
       "      <td>0</td>\n",
       "      <td>0</td>\n",
       "      <td>0</td>\n",
       "      <td>0</td>\n",
       "      <td>0</td>\n",
       "      <td>0</td>\n",
       "      <td>0</td>\n",
       "      <td>0</td>\n",
       "      <td>1</td>\n",
       "      <td>0</td>\n",
       "    </tr>\n",
       "  </tbody>\n",
       "</table>\n",
       "</div>"
      ],
      "text/plain": [
       "   gender  Partner  Dependents  tenure  PhoneService  PaperlessBilling  \\\n",
       "0       0        1           0       1             0                 1   \n",
       "1       1        0           0      34             1                 0   \n",
       "2       1        0           0       2             1                 1   \n",
       "3       1        0           0      45             0                 0   \n",
       "4       0        0           0       2             1                 1   \n",
       "\n",
       "   MonthlyCharges  TotalCharges  Churn  PaymentMethod_New  MaxPackageInternet  \\\n",
       "0          29.850        29.850      0                  1                   0   \n",
       "1          56.950      1889.500      0                  1                   0   \n",
       "2          53.850       108.150      1                  1                   0   \n",
       "3          42.300      1840.750      0                  0                   0   \n",
       "4          70.700       151.650      1                  1                   0   \n",
       "\n",
       "   TotalServices  AvgPerMonth  CurrentIncrease  \\\n",
       "0              1       14.925            0.500   \n",
       "1              3       53.986            0.948   \n",
       "2              3       36.050            0.669   \n",
       "3              3       40.016            0.946   \n",
       "4              1       50.550            0.715   \n",
       "\n",
       "   MultipleLines_No phone service  MultipleLines_Yes  \\\n",
       "0                               1                  0   \n",
       "1                               0                  0   \n",
       "2                               0                  0   \n",
       "3                               1                  0   \n",
       "4                               0                  0   \n",
       "\n",
       "   InternetService_Fiber optic  InternetService_No  \\\n",
       "0                            0                   0   \n",
       "1                            0                   0   \n",
       "2                            0                   0   \n",
       "3                            0                   0   \n",
       "4                            1                   0   \n",
       "\n",
       "   OnlineSecurity_No internet service  OnlineSecurity_Yes  \\\n",
       "0                                   0                   0   \n",
       "1                                   0                   1   \n",
       "2                                   0                   1   \n",
       "3                                   0                   1   \n",
       "4                                   0                   0   \n",
       "\n",
       "   OnlineBackup_No internet service  OnlineBackup_Yes  \\\n",
       "0                                 0                 1   \n",
       "1                                 0                 0   \n",
       "2                                 0                 1   \n",
       "3                                 0                 0   \n",
       "4                                 0                 0   \n",
       "\n",
       "   DeviceProtection_No internet service  DeviceProtection_Yes  \\\n",
       "0                                     0                     0   \n",
       "1                                     0                     1   \n",
       "2                                     0                     0   \n",
       "3                                     0                     1   \n",
       "4                                     0                     0   \n",
       "\n",
       "   TechSupport_No internet service  TechSupport_Yes  \\\n",
       "0                                0                0   \n",
       "1                                0                0   \n",
       "2                                0                0   \n",
       "3                                0                1   \n",
       "4                                0                0   \n",
       "\n",
       "   StreamingTV_No internet service  StreamingTV_Yes  \\\n",
       "0                                0                0   \n",
       "1                                0                0   \n",
       "2                                0                0   \n",
       "3                                0                0   \n",
       "4                                0                0   \n",
       "\n",
       "   StreamingMovies_No internet service  StreamingMovies_Yes  \\\n",
       "0                                    0                    0   \n",
       "1                                    0                    0   \n",
       "2                                    0                    0   \n",
       "3                                    0                    0   \n",
       "4                                    0                    0   \n",
       "\n",
       "   CustomerTime_4years  CustomerTime_4years+  SeniorCitizen_1  \\\n",
       "0                    0                     0                0   \n",
       "1                    1                     0                0   \n",
       "2                    0                     0                0   \n",
       "3                    1                     0                0   \n",
       "4                    0                     0                0   \n",
       "\n",
       "   LongTermContract_1  noSup_1  StreamingService_1  \n",
       "0                   0        1                   0  \n",
       "1                   1        1                   0  \n",
       "2                   0        1                   0  \n",
       "3                   1        1                   0  \n",
       "4                   0        1                   0  "
      ]
     },
     "execution_count": 55,
     "metadata": {},
     "output_type": "execute_result"
    }
   ],
   "source": [
    "cat_cols = [col for col in cat_cols if col not in binary_cols and col not in [\"Churn\", \"TotalServices\"]]\n",
    "\n",
    "def one_hot_encoder(dataframe, categorical_cols, drop_first=False):\n",
    "    dataframe = pd.get_dummies(dataframe, columns=categorical_cols, drop_first=drop_first)\n",
    "    return dataframe\n",
    "\n",
    "df = one_hot_encoder(df, cat_cols, drop_first=True)\n",
    "df.head()"
   ]
  },
  {
   "cell_type": "code",
   "execution_count": 56,
   "metadata": {
    "execution": {
     "iopub.execute_input": "2022-12-18T13:02:17.595278Z",
     "iopub.status.busy": "2022-12-18T13:02:17.594824Z",
     "iopub.status.idle": "2022-12-18T13:02:17.610119Z",
     "shell.execute_reply": "2022-12-18T13:02:17.608851Z",
     "shell.execute_reply.started": "2022-12-18T13:02:17.595240Z"
    }
   },
   "outputs": [
    {
     "data": {
      "text/plain": [
       "gender                                  0\n",
       "Partner                                 0\n",
       "OnlineBackup_No internet service        0\n",
       "OnlineBackup_Yes                        0\n",
       "DeviceProtection_No internet service    0\n",
       "                                       ..\n",
       "AvgPerMonth                             0\n",
       "CurrentIncrease                         0\n",
       "MultipleLines_No phone service          0\n",
       "MultipleLines_Yes                       0\n",
       "StreamingService_1                      0\n",
       "Length: 36, dtype: int64"
      ]
     },
     "execution_count": 56,
     "metadata": {},
     "output_type": "execute_result"
    }
   ],
   "source": [
    "df.isnull().sum().sort_values(ascending=False)"
   ]
  },
  {
   "cell_type": "markdown",
   "metadata": {},
   "source": [
    "Korelasyon"
   ]
  },
  {
   "cell_type": "code",
   "execution_count": 57,
   "metadata": {
    "execution": {
     "iopub.execute_input": "2022-12-18T13:02:56.273992Z",
     "iopub.status.busy": "2022-12-18T13:02:56.273558Z",
     "iopub.status.idle": "2022-12-18T13:02:56.960099Z",
     "shell.execute_reply": "2022-12-18T13:02:56.958906Z",
     "shell.execute_reply.started": "2022-12-18T13:02:56.273954Z"
    }
   },
   "outputs": [
    {
     "data": {
      "text/plain": [
       "<AxesSubplot:>"
      ]
     },
     "execution_count": 57,
     "metadata": {},
     "output_type": "execute_result"
    },
    {
     "data": {
      "image/png": "[encoded data removed]",
      "text/plain": [
       "<Figure size 1080x576 with 1 Axes>"
      ]
     },
     "metadata": {
      "needs_background": "light"
     },
     "output_type": "display_data"
    }
   ],
   "source": [
    "#Correlation of \"Churn\" with Features:\n",
    "plt.figure(figsize=(15,8))\n",
    "sns.set(style = 'white')\n",
    "\n",
    "df.corr()['Churn'].sort_values(ascending = False).plot(kind='bar')"
   ]
  },
  {
   "cell_type": "markdown",
   "metadata": {},
   "source": [
    "Modelleme"
   ]
  },
  {
   "cell_type": "code",
   "execution_count": 58,
   "metadata": {
    "execution": {
     "iopub.execute_input": "2022-12-18T13:04:31.596077Z",
     "iopub.status.busy": "2022-12-18T13:04:31.595674Z",
     "iopub.status.idle": "2022-12-18T13:04:31.605757Z",
     "shell.execute_reply": "2022-12-18T13:04:31.604572Z",
     "shell.execute_reply.started": "2022-12-18T13:04:31.596045Z"
    }
   },
   "outputs": [],
   "source": [
    "y = df[\"Churn\"]\n",
    "X = df.drop([\"Churn\"], axis=1)"
   ]
  },
  {
   "cell_type": "code",
   "execution_count": 59,
   "metadata": {
    "execution": {
     "iopub.execute_input": "2022-12-18T13:04:41.149096Z",
     "iopub.status.busy": "2022-12-18T13:04:41.148699Z",
     "iopub.status.idle": "2022-12-18T13:06:25.709777Z",
     "shell.execute_reply": "2022-12-18T13:06:25.708362Z",
     "shell.execute_reply.started": "2022-12-18T13:04:41.149066Z"
    }
   },
   "outputs": [
    {
     "name": "stdout",
     "output_type": "stream",
     "text": [
      "########## KNN ##########\n",
      "Accuracy: 0.7629\n",
      "Recall: 0.45\n",
      "Precision: 0.569\n",
      "F1: 0.5019\n",
      "########## CART ##########\n",
      "Accuracy: 0.7263\n",
      "Recall: 0.5088\n",
      "Precision: 0.4861\n",
      "F1: 0.497\n",
      "########## RF ##########\n",
      "Accuracy: 0.7925\n",
      "Recall: 0.4906\n",
      "Precision: 0.6446\n",
      "F1: 0.5566\n",
      "########## SVM ##########\n",
      "Accuracy: 0.7685\n",
      "Recall: 0.2798\n",
      "Precision: 0.6522\n",
      "F1: 0.3911\n",
      "########## XGB ##########\n",
      "Accuracy: 0.788\n",
      "Recall: 0.511\n",
      "Precision: 0.6236\n",
      "F1: 0.5616\n",
      "########## LightGBM ##########\n",
      "Accuracy: 0.7948\n",
      "Recall: 0.52\n",
      "Precision: 0.6404\n",
      "F1: 0.5738\n",
      "########## CatBoost ##########\n",
      "Accuracy: 0.7996\n",
      "Recall: 0.5152\n",
      "Precision: 0.6573\n",
      "F1: 0.5776\n"
     ]
    }
   ],
   "source": [
    "models = [('KNN', KNeighborsClassifier()),\n",
    "          ('CART', DecisionTreeClassifier(random_state=46)),\n",
    "          ('RF', RandomForestClassifier(random_state=46)),\n",
    "          ('SVM', SVC(gamma='auto', random_state=46)),\n",
    "          ('XGB', XGBClassifier(random_state=46)),\n",
    "          (\"LightGBM\", LGBMClassifier(random_state=46)),\n",
    "          (\"CatBoost\", CatBoostClassifier(verbose=False, random_state=46))]\n",
    "\n",
    "for name, model in models:\n",
    "    cv_results = cross_validate(model, X, y, cv=10, scoring=[\"accuracy\", \"f1\", \"precision\", \"recall\"])\n",
    "    print(f\"########## {name} ##########\")\n",
    "    print(f\"Accuracy: {round(cv_results['test_accuracy'].mean(), 4)}\")\n",
    "    print(f\"Recall: {round(cv_results['test_recall'].mean(), 4)}\")\n",
    "    print(f\"Precision: {round(cv_results['test_precision'].mean(), 4)}\")\n",
    "    print(f\"F1: {round(cv_results['test_f1'].mean(), 4)}\")"
   ]
  },
  {
   "cell_type": "markdown",
   "metadata": {},
   "source": [
    "Random Forest"
   ]
  },
  {
   "cell_type": "code",
   "execution_count": 60,
   "metadata": {
    "execution": {
     "iopub.execute_input": "2022-12-18T13:14:19.399125Z",
     "iopub.status.busy": "2022-12-18T13:14:19.398276Z",
     "iopub.status.idle": "2022-12-18T13:16:14.121578Z",
     "shell.execute_reply": "2022-12-18T13:16:14.120308Z",
     "shell.execute_reply.started": "2022-12-18T13:14:19.399082Z"
    }
   },
   "outputs": [
    {
     "name": "stdout",
     "output_type": "stream",
     "text": [
      "Fitting 5 folds for each of 36 candidates, totalling 180 fits\n"
     ]
    }
   ],
   "source": [
    "rf_model = RandomForestClassifier(random_state=17)\n",
    "\n",
    "rf_params = {\"max_depth\": [5, 8],\n",
    "             \"max_features\": [3, 7, \"auto\"],\n",
    "             \"min_samples_split\": [8, 15, 20],\n",
    "             \"n_estimators\": [100, 500]}\n",
    "\n",
    "rf_best_grid = GridSearchCV(rf_model, rf_params, cv=5, n_jobs=-1, verbose=True).fit(X, y)\n",
    "\n",
    "rf_best_grid.best_params_\n",
    "\n",
    "rf_best_grid.best_score_\n",
    "\n",
    "rf_final = rf_model.set_params(**rf_best_grid.best_params_, random_state=17).fit(X, y)"
   ]
  },
  {
   "cell_type": "code",
   "execution_count": 61,
   "metadata": {
    "execution": {
     "iopub.execute_input": "2022-12-18T13:16:14.124001Z",
     "iopub.status.busy": "2022-12-18T13:16:14.123620Z",
     "iopub.status.idle": "2022-12-18T13:16:42.324643Z",
     "shell.execute_reply": "2022-12-18T13:16:42.323280Z",
     "shell.execute_reply.started": "2022-12-18T13:16:14.123969Z"
    }
   },
   "outputs": [
    {
     "data": {
      "text/plain": [
       "0.7969247058062847"
      ]
     },
     "execution_count": 61,
     "metadata": {},
     "output_type": "execute_result"
    }
   ],
   "source": [
    "cv_results = cross_validate(rf_final, X, y, cv=10, scoring=[\"accuracy\", \"f1\", \"roc_auc\"])\n",
    "cv_results['test_accuracy'].mean()"
   ]
  },
  {
   "cell_type": "code",
   "execution_count": 62,
   "metadata": {
    "execution": {
     "iopub.execute_input": "2022-12-18T13:16:53.011637Z",
     "iopub.status.busy": "2022-12-18T13:16:53.011199Z",
     "iopub.status.idle": "2022-12-18T13:16:53.019855Z",
     "shell.execute_reply": "2022-12-18T13:16:53.018583Z",
     "shell.execute_reply.started": "2022-12-18T13:16:53.011603Z"
    }
   },
   "outputs": [
    {
     "data": {
      "text/plain": [
       "0.5471449146102974"
      ]
     },
     "execution_count": 62,
     "metadata": {},
     "output_type": "execute_result"
    }
   ],
   "source": [
    "cv_results['test_f1'].mean()"
   ]
  },
  {
   "cell_type": "code",
   "execution_count": 63,
   "metadata": {
    "execution": {
     "iopub.execute_input": "2022-12-18T13:17:02.423153Z",
     "iopub.status.busy": "2022-12-18T13:17:02.422762Z",
     "iopub.status.idle": "2022-12-18T13:17:02.430356Z",
     "shell.execute_reply": "2022-12-18T13:17:02.429072Z",
     "shell.execute_reply.started": "2022-12-18T13:17:02.423122Z"
    }
   },
   "outputs": [
    {
     "data": {
      "text/plain": [
       "0.8433299350034293"
      ]
     },
     "execution_count": 63,
     "metadata": {},
     "output_type": "execute_result"
    }
   ],
   "source": [
    "cv_results['test_roc_auc'].mean()"
   ]
  },
  {
   "cell_type": "markdown",
   "metadata": {},
   "source": [
    "XGBoost"
   ]
  },
  {
   "cell_type": "code",
   "execution_count": 64,
   "metadata": {
    "execution": {
     "iopub.execute_input": "2022-12-18T13:17:19.443141Z",
     "iopub.status.busy": "2022-12-18T13:17:19.442760Z",
     "iopub.status.idle": "2022-12-18T13:21:51.122847Z",
     "shell.execute_reply": "2022-12-18T13:21:51.121878Z",
     "shell.execute_reply.started": "2022-12-18T13:17:19.443109Z"
    }
   },
   "outputs": [
    {
     "name": "stdout",
     "output_type": "stream",
     "text": [
      "Fitting 5 folds for each of 24 candidates, totalling 120 fits\n"
     ]
    }
   ],
   "source": [
    "xgboost_model = XGBClassifier(random_state=17)\n",
    "\n",
    "xgboost_params = {\"learning_rate\": [0.1, 0.001],\n",
    "                  \"max_depth\": [5, 8, 20],\n",
    "                  \"n_estimators\": [100, 500],\n",
    "                  \"colsample_bytree\": [0.5, 0.7]}\n",
    "\n",
    "xgboost_best_grid = GridSearchCV(xgboost_model, xgboost_params, cv=5, n_jobs=-1, verbose=True).fit(X, y)\n",
    "\n",
    "xgboost_final = xgboost_model.set_params(**xgboost_best_grid.best_params_, random_state=17).fit(X, y)\n"
   ]
  },
  {
   "cell_type": "code",
   "execution_count": 65,
   "metadata": {
    "execution": {
     "iopub.execute_input": "2022-12-18T13:28:27.926725Z",
     "iopub.status.busy": "2022-12-18T13:28:27.926259Z",
     "iopub.status.idle": "2022-12-18T13:28:35.233022Z",
     "shell.execute_reply": "2022-12-18T13:28:35.232030Z",
     "shell.execute_reply.started": "2022-12-18T13:28:27.926689Z"
    }
   },
   "outputs": [
    {
     "data": {
      "text/plain": [
       "0.8003390501745764"
      ]
     },
     "execution_count": 65,
     "metadata": {},
     "output_type": "execute_result"
    }
   ],
   "source": [
    "cv_results = cross_validate(xgboost_final, X, y, cv=10, scoring=[\"accuracy\", \"f1\", \"roc_auc\"])\n",
    "cv_results['test_accuracy'].mean()"
   ]
  },
  {
   "cell_type": "code",
   "execution_count": 66,
   "metadata": {
    "execution": {
     "iopub.execute_input": "2022-12-18T13:28:36.858361Z",
     "iopub.status.busy": "2022-12-18T13:28:36.857451Z",
     "iopub.status.idle": "2022-12-18T13:28:36.867987Z",
     "shell.execute_reply": "2022-12-18T13:28:36.866308Z",
     "shell.execute_reply.started": "2022-12-18T13:28:36.858302Z"
    }
   },
   "outputs": [
    {
     "data": {
      "text/plain": [
       "0.5791982732270106"
      ]
     },
     "execution_count": 66,
     "metadata": {},
     "output_type": "execute_result"
    }
   ],
   "source": [
    "cv_results['test_f1'].mean()"
   ]
  },
  {
   "cell_type": "code",
   "execution_count": 67,
   "metadata": {
    "execution": {
     "iopub.execute_input": "2022-12-18T13:28:42.123592Z",
     "iopub.status.busy": "2022-12-18T13:28:42.123163Z",
     "iopub.status.idle": "2022-12-18T13:28:42.130281Z",
     "shell.execute_reply": "2022-12-18T13:28:42.129351Z",
     "shell.execute_reply.started": "2022-12-18T13:28:42.123538Z"
    }
   },
   "outputs": [
    {
     "data": {
      "text/plain": [
       "0.8424971052468431"
      ]
     },
     "execution_count": 67,
     "metadata": {},
     "output_type": "execute_result"
    }
   ],
   "source": [
    "cv_results['test_roc_auc'].mean()"
   ]
  },
  {
   "cell_type": "markdown",
   "metadata": {},
   "source": [
    "LightGBM"
   ]
  },
  {
   "cell_type": "code",
   "execution_count": 68,
   "metadata": {
    "execution": {
     "iopub.execute_input": "2022-12-18T13:29:04.180844Z",
     "iopub.status.busy": "2022-12-18T13:29:04.180405Z",
     "iopub.status.idle": "2022-12-18T13:30:24.714458Z",
     "shell.execute_reply": "2022-12-18T13:30:24.713056Z",
     "shell.execute_reply.started": "2022-12-18T13:29:04.180802Z"
    }
   },
   "outputs": [
    {
     "name": "stdout",
     "output_type": "stream",
     "text": [
      "Fitting 5 folds for each of 36 candidates, totalling 180 fits\n"
     ]
    }
   ],
   "source": [
    "\n",
    "lgbm_model = LGBMClassifier(random_state=17)\n",
    "\n",
    "lgbm_params = {\"learning_rate\": [0.01, 0.1, 0.001],\n",
    "               \"n_estimators\": [100, 300, 500, 1000],\n",
    "               \"colsample_bytree\": [0.5, 0.7, 1]}\n",
    "\n",
    "lgbm_best_grid = GridSearchCV(lgbm_model, lgbm_params, cv=5, n_jobs=-1, verbose=True).fit(X, y)\n",
    "\n",
    "lgbm_final = lgbm_model.set_params(**lgbm_best_grid.best_params_, random_state=17).fit(X, y)\n"
   ]
  },
  {
   "cell_type": "code",
   "execution_count": 69,
   "metadata": {
    "execution": {
     "iopub.execute_input": "2022-12-18T13:30:40.283311Z",
     "iopub.status.busy": "2022-12-18T13:30:40.282905Z",
     "iopub.status.idle": "2022-12-18T13:30:49.852134Z",
     "shell.execute_reply": "2022-12-18T13:30:49.851020Z",
     "shell.execute_reply.started": "2022-12-18T13:30:40.283273Z"
    }
   },
   "outputs": [
    {
     "data": {
      "text/plain": [
       "0.8024739751713437"
      ]
     },
     "execution_count": 69,
     "metadata": {},
     "output_type": "execute_result"
    }
   ],
   "source": [
    "cv_results = cross_validate(lgbm_final, X, y, cv=10, scoring=[\"accuracy\", \"f1\", \"roc_auc\"])\n",
    "cv_results['test_accuracy'].mean()"
   ]
  },
  {
   "cell_type": "code",
   "execution_count": 70,
   "metadata": {
    "execution": {
     "iopub.execute_input": "2022-12-18T13:30:53.262876Z",
     "iopub.status.busy": "2022-12-18T13:30:53.262466Z",
     "iopub.status.idle": "2022-12-18T13:30:53.271029Z",
     "shell.execute_reply": "2022-12-18T13:30:53.269936Z",
     "shell.execute_reply.started": "2022-12-18T13:30:53.262845Z"
    }
   },
   "outputs": [
    {
     "data": {
      "text/plain": [
       "0.5832263945220095"
      ]
     },
     "execution_count": 70,
     "metadata": {},
     "output_type": "execute_result"
    }
   ],
   "source": [
    "cv_results['test_f1'].mean()"
   ]
  },
  {
   "cell_type": "code",
   "execution_count": 71,
   "metadata": {
    "execution": {
     "iopub.execute_input": "2022-12-18T13:30:55.908743Z",
     "iopub.status.busy": "2022-12-18T13:30:55.908023Z",
     "iopub.status.idle": "2022-12-18T13:30:55.915980Z",
     "shell.execute_reply": "2022-12-18T13:30:55.914677Z",
     "shell.execute_reply.started": "2022-12-18T13:30:55.908686Z"
    }
   },
   "outputs": [
    {
     "data": {
      "text/plain": [
       "0.8435080366495704"
      ]
     },
     "execution_count": 71,
     "metadata": {},
     "output_type": "execute_result"
    }
   ],
   "source": [
    "cv_results['test_roc_auc'].mean()"
   ]
  },
  {
   "cell_type": "markdown",
   "metadata": {},
   "source": [
    "CatBoost"
   ]
  },
  {
   "cell_type": "code",
   "execution_count": 72,
   "metadata": {
    "execution": {
     "iopub.execute_input": "2022-12-18T13:31:20.674296Z",
     "iopub.status.busy": "2022-12-18T13:31:20.673897Z",
     "iopub.status.idle": "2022-12-18T13:32:19.507467Z",
     "shell.execute_reply": "2022-12-18T13:32:19.505895Z",
     "shell.execute_reply.started": "2022-12-18T13:31:20.674266Z"
    }
   },
   "outputs": [
    {
     "name": "stdout",
     "output_type": "stream",
     "text": [
      "Fitting 5 folds for each of 8 candidates, totalling 40 fits\n"
     ]
    }
   ],
   "source": [
    "catboost_model = CatBoostClassifier(random_state=17, verbose=False)\n",
    "\n",
    "catboost_params = {\"iterations\": [200, 500],\n",
    "                   \"learning_rate\": [0.01, 0.1],\n",
    "                   \"depth\": [3, 6]}\n",
    "\n",
    "catboost_best_grid = GridSearchCV(catboost_model, catboost_params, cv=5, n_jobs=-1, verbose=True).fit(X, y)\n",
    "\n",
    "catboost_final = catboost_model.set_params(**catboost_best_grid.best_params_, random_state=17).fit(X, y)"
   ]
  },
  {
   "cell_type": "code",
   "execution_count": 73,
   "metadata": {
    "execution": {
     "iopub.execute_input": "2022-12-18T13:32:59.017901Z",
     "iopub.status.busy": "2022-12-18T13:32:59.017431Z",
     "iopub.status.idle": "2022-12-18T13:33:22.265704Z",
     "shell.execute_reply": "2022-12-18T13:33:22.264436Z",
     "shell.execute_reply.started": "2022-12-18T13:32:59.017863Z"
    }
   },
   "outputs": [
    {
     "data": {
      "text/plain": [
       "0.8026156165136428"
      ]
     },
     "execution_count": 73,
     "metadata": {},
     "output_type": "execute_result"
    }
   ],
   "source": [
    "cv_results = cross_validate(catboost_final, X, y, cv=10, scoring=[\"accuracy\", \"f1\", \"roc_auc\"])\n",
    "\n",
    "cv_results['test_accuracy'].mean()\n",
    "####################################"
   ]
  },
  {
   "cell_type": "code",
   "execution_count": 74,
   "metadata": {
    "execution": {
     "iopub.execute_input": "2022-12-18T13:33:30.717599Z",
     "iopub.status.busy": "2022-12-18T13:33:30.717163Z",
     "iopub.status.idle": "2022-12-18T13:33:30.725769Z",
     "shell.execute_reply": "2022-12-18T13:33:30.724411Z",
     "shell.execute_reply.started": "2022-12-18T13:33:30.717563Z"
    }
   },
   "outputs": [
    {
     "data": {
      "text/plain": [
       "0.5771961896800885"
      ]
     },
     "execution_count": 74,
     "metadata": {},
     "output_type": "execute_result"
    }
   ],
   "source": [
    "cv_results['test_f1'].mean()"
   ]
  },
  {
   "cell_type": "code",
   "execution_count": 75,
   "metadata": {
    "execution": {
     "iopub.execute_input": "2022-12-18T13:33:33.149631Z",
     "iopub.status.busy": "2022-12-18T13:33:33.149187Z",
     "iopub.status.idle": "2022-12-18T13:33:33.158225Z",
     "shell.execute_reply": "2022-12-18T13:33:33.156785Z",
     "shell.execute_reply.started": "2022-12-18T13:33:33.149596Z"
    }
   },
   "outputs": [
    {
     "data": {
      "text/plain": [
       "0.8471053649825224"
      ]
     },
     "execution_count": 75,
     "metadata": {},
     "output_type": "execute_result"
    }
   ],
   "source": [
    "cv_results['test_roc_auc'].mean()"
   ]
  },
  {
   "cell_type": "code",
   "execution_count": 76,
   "metadata": {
    "execution": {
     "iopub.execute_input": "2022-12-18T13:33:41.893551Z",
     "iopub.status.busy": "2022-12-18T13:33:41.893157Z",
     "iopub.status.idle": "2022-12-18T13:33:41.901624Z",
     "shell.execute_reply": "2022-12-18T13:33:41.900282Z",
     "shell.execute_reply.started": "2022-12-18T13:33:41.893520Z"
    }
   },
   "outputs": [
    {
     "data": {
      "text/plain": [
       "{'colsample_bytree': 0.5,\n",
       " 'learning_rate': 0.1,\n",
       " 'max_depth': 5,\n",
       " 'n_estimators': 100}"
      ]
     },
     "execution_count": 76,
     "metadata": {},
     "output_type": "execute_result"
    }
   ],
   "source": [
    "xgboost_best_grid.best_params_"
   ]
  },
  {
   "cell_type": "code",
   "execution_count": 77,
   "metadata": {
    "execution": {
     "iopub.execute_input": "2022-12-18T13:33:49.203332Z",
     "iopub.status.busy": "2022-12-18T13:33:49.202919Z",
     "iopub.status.idle": "2022-12-18T13:33:49.228828Z",
     "shell.execute_reply": "2022-12-18T13:33:49.227785Z",
     "shell.execute_reply.started": "2022-12-18T13:33:49.203298Z"
    }
   },
   "outputs": [
    {
     "name": "stdout",
     "output_type": "stream",
     "text": [
      "[[4799  364]\n",
      " [ 726 1143]]\n"
     ]
    }
   ],
   "source": [
    "from sklearn.metrics import confusion_matrix\n",
    "y_pred = xgboost_final.predict(X)\n",
    "print(confusion_matrix(y, y_pred))"
   ]
  },
  {
   "cell_type": "markdown",
   "metadata": {},
   "source": [
    "****Feature Importance****"
   ]
  },
  {
   "cell_type": "code",
   "execution_count": 78,
   "metadata": {
    "execution": {
     "iopub.execute_input": "2022-12-18T13:34:14.058005Z",
     "iopub.status.busy": "2022-12-18T13:34:14.057204Z",
     "iopub.status.idle": "2022-12-18T13:34:17.133093Z",
     "shell.execute_reply": "2022-12-18T13:34:17.131943Z",
     "shell.execute_reply.started": "2022-12-18T13:34:14.057967Z"
    },
    "scrolled": false
   },
   "outputs": [
    {
     "data": {
      "image/png": "[encoded data removed]",
      "text/plain": [
       "<Figure size 720x720 with 1 Axes>"
      ]
     },
     "metadata": {},
     "output_type": "display_data"
    },
    {
     "data": {
      "image/png": "[encoded data removed]",
      "text/plain": [
       "<Figure size 720x720 with 1 Axes>"
      ]
     },
     "metadata": {},
     "output_type": "display_data"
    },
    {
     "data": {
      "image/png": "[encoded data removed]",
      "text/plain": [
       "<Figure size 720x720 with 1 Axes>"
      ]
     },
     "metadata": {},
     "output_type": "display_data"
    },
    {
     "data": {
      "image/png": "[encoded data removed]",
      "text/plain": [
       "<Figure size 720x720 with 1 Axes>"
      ]
     },
     "metadata": {},
     "output_type": "display_data"
    }
   ],
   "source": [
    "def plot_importance(model, features, num=len(X), save=False):\n",
    "    feature_imp = pd.DataFrame({'Value': model.feature_importances_, 'Feature': features.columns})\n",
    "    plt.figure(figsize=(10, 10))\n",
    "    sns.set(font_scale=1)\n",
    "    sns.barplot(x=\"Value\", y=\"Feature\", data=feature_imp.sort_values(by=\"Value\",\n",
    "                                                                     ascending=False)[0:num])\n",
    "    plt.title('Features')\n",
    "    plt.tight_layout()\n",
    "    plt.show()\n",
    "    if save:\n",
    "        plt.savefig('importances.png')\n",
    "\n",
    "plot_importance(rf_final, X)\n",
    "plot_importance(xgboost_final, X)\n",
    "plot_importance(lgbm_final, X)\n",
    "plot_importance(catboost_final, X)"
   ]
  },
  {
   "cell_type": "code",
   "execution_count": 86,
   "metadata": {},
   "outputs": [],
   "source": [
    "from sklearn.ensemble import RandomForestRegressor, GradientBoostingRegressor\n",
    "from sklearn.model_selection import train_test_split, GridSearchCV, cross_val_score\n",
    "from sklearn.metrics import mean_squared_error, mean_absolute_error\n",
    "from sklearn.metrics import mean_squared_error"
   ]
  },
  {
   "cell_type": "code",
   "execution_count": 84,
   "metadata": {},
   "outputs": [],
   "source": [
    "X_train,X_test,y_train,y_test = train_test_split(X,y,random_state = 0)"
   ]
  },
  {
   "cell_type": "code",
   "execution_count": 87,
   "metadata": {},
   "outputs": [
    {
     "name": "stdout",
     "output_type": "stream",
     "text": [
      "RF Tuned Model Train RMSE: 0.31686609149310985\n",
      "RF Tuned Model Test RMSE: 0.364270262521165\n"
     ]
    }
   ],
   "source": [
    "##########################\n",
    "# RANDOM FORESTS MODEL TUNING\n",
    "##########################\n",
    "\n",
    "# Tuning için hazırlanan parametreler. Tuning zaman aldığı için çıkan parametre değerlerini girdim.\n",
    "rf_params = {\"max_depth\": [4, 5, 7, 10],\n",
    "             \"max_features\": [4, 5, 6, 8, 10, 12],\n",
    "             \"n_estimators\": [80, 100, 150, 250, 400, 500],\n",
    "             \"min_samples_split\": [8, 10, 12, 15]}\n",
    "\n",
    "# rf_cv_model = GridSearchCV(rf_model, rf_params, cv = 10, n_jobs = -1).fit(X_train , y_train)\n",
    "# rf_cv_model.best_params_\n",
    "\n",
    "best_params = {'max_depth': 10,\n",
    "               'max_features': 8,\n",
    "               'min_samples_split': 10,\n",
    "               'n_estimators': 80}\n",
    "\n",
    "rf_model = RandomForestRegressor(random_state=42).fit(X_train, y_train)\n",
    "\n",
    "# RANDOM FORESTS TUNED MODEL\n",
    "rf_tuned = RandomForestRegressor(max_depth=10, max_features=4, n_estimators=150,\n",
    "                                 min_samples_split=8, random_state=42).fit(X_train, y_train)\n",
    "\n",
    "# TUNED MODEL TRAIN HATASI\n",
    "y_pred = rf_tuned.predict(X_train)\n",
    "\n",
    "print(\"RF Tuned Model Train RMSE:\", np.sqrt(mean_squared_error(y_train, y_pred)))\n",
    "\n",
    "##########################\n",
    "# TUNED MODEL TEST HATASI\n",
    "##########################\n",
    "\n",
    "y_pred = rf_tuned.predict(X_test)\n",
    "print(\"RF Tuned Model Test RMSE:\", np.sqrt(mean_squared_error(y_test, y_pred)))"
   ]
  },
  {
   "cell_type": "code",
   "execution_count": 88,
   "metadata": {},
   "outputs": [],
   "source": [
    "# Tuned edilmiş model nesnesinin kaydedilmesi\n",
    "import pickle\n",
    "pickle.dump(rf_tuned, open(\"rf_final_model.pkl\", 'wb'))\n",
    "\n",
    "# Tuned edilmiş model nesnesinin yüklenmesi\n",
    "df_prep = pickle.load(open('rf_final_model.pkl', 'rb'))"
   ]
  },
  {
   "cell_type": "markdown",
   "metadata": {},
   "source": [
    "Çalışmamı okumaya ayırdığınız zaman için çok teşekkür ederim. Umarım sizin için ilginç ve biraz yardımcı olmuştur."
   ]
  },
  {
   "cell_type": "code",
   "execution_count": null,
   "metadata": {},
   "outputs": [],
   "source": []
  }
 ],
 "metadata": {
  "kernelspec": {
   "display_name": "Python 3",
   "language": "python",
   "name": "python3"
  },
  "language_info": {
   "codemirror_mode": {
    "name": "ipython",
    "version": 3
   },
   "file_extension": ".py",
   "mimetype": "text/x-python",
   "name": "python",
   "nbconvert_exporter": "python",
   "pygments_lexer": "ipython3",
   "version": "3.8.8"
  }
 },
 "nbformat": 4,
 "nbformat_minor": 4
}
